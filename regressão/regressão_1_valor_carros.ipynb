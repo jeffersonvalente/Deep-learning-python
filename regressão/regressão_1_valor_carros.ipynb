{
 "cells": [
  {
   "cell_type": "code",
   "execution_count": null,
   "metadata": {},
   "outputs": [],
   "source": [
    "pip install -r requirements.txt"
   ]
  },
  {
   "cell_type": "code",
   "execution_count": 2,
   "metadata": {},
   "outputs": [],
   "source": [
    "import pandas as pd \n",
    "import tensorflow as tf \n",
    "import sklearn\n",
    "\n",
    "from tensorflow.keras.models import Sequential\n",
    "from tensorflow.keras.layers import Dense\n",
    "from sklearn.preprocessing import OneHotEncoder\n",
    "from sklearn.compose import ColumnTransformer"
   ]
  },
  {
   "cell_type": "code",
   "execution_count": 3,
   "metadata": {},
   "outputs": [],
   "source": [
    "# Load the data\n",
    "base = pd.read_csv('autos.csv' , encoding = 'ISO-8859-1') "
   ]
  },
  {
   "cell_type": "code",
   "execution_count": 4,
   "metadata": {},
   "outputs": [],
   "source": [
    "\n",
    "base = base.drop('dateCrawled', axis = 1)\n",
    "base = base.drop('dateCreated', axis = 1)\n",
    "base = base.drop('nrOfPictures', axis = 1)\n",
    "base = base.drop('postalCode', axis = 1)\n",
    "base = base.drop('lastSeen', axis = 1)\n",
    "base = base.drop('name', axis = 1)\n",
    "base = base.drop('seller', axis = 1)\n",
    "base = base.drop('offerType', axis = 1)\n",
    "base = base[base.price > 10]\n",
    "base = base[base.price < 350000]\n",
    "\n",
    "# Este trecho de código substitui valores nulos em colunas específicas do DataFrame 'base'.\n",
    "# A substituição é feita para evitar problemas com valores ausentes durante a análise ou modelagem.\n",
    "# Para cada coluna com valores nulos, um valor padrão é atribuído:\n",
    "# - 'vehicleType' recebe 'limousine'\n",
    "# - 'gearbox' recebe 'manuell'\n",
    "# - 'model' recebe 'golf'\n",
    "# - 'fuelType' recebe 'benzin'\n",
    "# Isso garante que todas as entradas tenham valores válidos, facilitando o processamento subsequente.\n",
    "valores = {'vehicleType': 'limousine', 'gearbox': 'manuell', 'model': 'golf', 'fuelType': 'benzin', 'notRepairedDamage': 'nein'}\n",
    "base = base.fillna(value = valores) #Substituindo valores nulos\n"
   ]
  },
  {
   "cell_type": "code",
   "execution_count": null,
   "metadata": {},
   "outputs": [],
   "source": [
    "#------------------TRANSFORMAÇÃO DE VARIÁVEIS CATEGÓRICAS------------------#\n",
    "X = base.iloc[:, 1:13].values #Atribuindo as colunas de 1 a 13 a variável X\n",
    "y = base.iloc[:, 0].values #Atribuindo a coluna 0 a variável y\n",
    "\n",
    "onehotencoder = ColumnTransformer(transformers = [(\"OneHot\", OneHotEncoder(), [0, 1, 3, 5, 8, 9, 10])], remainder = 'passthrough') #Transformando variáveis categóricas em variáveis binárias\n",
    "X = onehotencoder.fit_transform(X).toarray() "
   ]
  },
  {
   "cell_type": "code",
   "execution_count": 9,
   "metadata": {},
   "outputs": [],
   "source": [
    "\n",
    "regressor = Sequential([\n",
    "    tf.keras.layers.InputLayer(shape = (316,)), #Camada de entrada\n",
    "    tf.keras.layers.Dense(units = 158, activation = 'relu'), #Camada oculta\n",
    "    tf.keras.layers.Dense(units = 158, activation = 'relu'), #Camada oculta\n",
    "    tf.keras.layers.Dense(units = 1, activation = 'linear') #Camada de saída\n",
    "])\n"
   ]
  },
  {
   "cell_type": "code",
   "execution_count": 10,
   "metadata": {},
   "outputs": [],
   "source": [
    "regressor.compile(optimizer = 'adam', loss = 'mean_absolute_error', metrics = ['mean_absolute_error']) #Compilando o modelo"
   ]
  },
  {
   "cell_type": "code",
   "execution_count": null,
   "metadata": {},
   "outputs": [],
   "source": [
    "regressor.fit(X, y, batch_size = 300, epochs = 100) #Treinando o modelo"
   ]
  },
  {
   "cell_type": "code",
   "execution_count": null,
   "metadata": {},
   "outputs": [],
   "source": [
    "previsoes = regressor.predict(X) #Fazendo previsões"
   ]
  },
  {
   "cell_type": "code",
   "execution_count": null,
   "metadata": {},
   "outputs": [],
   "source": [
    "print(previsoes) #Exibindo as previsões"
   ]
  },
  {
   "cell_type": "code",
   "execution_count": null,
   "metadata": {},
   "outputs": [],
   "source": [
    "y.mean() #Exibindo a média dos valores de y"
   ]
  },
  {
   "cell_type": "code",
   "execution_count": null,
   "metadata": {},
   "outputs": [],
   "source": [
    "previsoes.mean() #Exibindo a média dos valores previstos"
   ]
  },
  {
   "cell_type": "code",
   "execution_count": null,
   "metadata": {},
   "outputs": [],
   "source": []
  }
 ],
 "metadata": {
  "kernelspec": {
   "display_name": "base",
   "language": "python",
   "name": "python3"
  },
  "language_info": {
   "codemirror_mode": {
    "name": "ipython",
    "version": 3
   },
   "file_extension": ".py",
   "mimetype": "text/x-python",
   "name": "python",
   "nbconvert_exporter": "python",
   "pygments_lexer": "ipython3",
   "version": "3.12.7"
  }
 },
 "nbformat": 4,
 "nbformat_minor": 2
}
