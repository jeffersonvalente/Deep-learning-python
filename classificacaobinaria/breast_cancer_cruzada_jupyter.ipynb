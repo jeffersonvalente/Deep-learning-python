{
 "cells": [
  {
   "cell_type": "code",
   "execution_count": null,
   "id": "6901ce11-15f6-4af9-bd9a-8c80df348a76",
   "metadata": {
    "jupyter": {
     "source_hidden": true
    },
    "scrolled": true
   },
   "outputs": [],
   "source": [
    "pip install -r requirements.txt"
   ]
  },
  {
   "cell_type": "code",
   "execution_count": null,
   "id": "74345864-93e0-40b2-9d0f-986369076bc4",
   "metadata": {
    "jupyter": {
     "source_hidden": true
    }
   },
   "outputs": [],
   "source": [
    "import pandas as pd\n",
    "import sklearn\n",
    "import tensorflow as tf\n",
    "import scikeras\n",
    "from scikeras.wrappers import KerasClassifier\n",
    "from sklearn.model_selection import cross_val_score\n",
    "from tensorflow.keras.models import Sequential\n",
    "from tensorflow.keras import backend as k"
   ]
  },
  {
   "cell_type": "code",
   "execution_count": null,
   "id": "63b866dc-72e4-4a29-a682-f1958ec7ea6b",
   "metadata": {
    "jupyter": {
     "source_hidden": true
    }
   },
   "outputs": [],
   "source": [
    "#--------------------------------------------- carregando a base de dados ---------------------------------------------#\n",
    "\n",
    "#previsores\n",
    "X = pd.read_csv('entradas_breast.csv')\n",
    "\n",
    "#classe\n",
    "y = pd.read_csv('saidas_breast.csv')"
   ]
  },
  {
   "cell_type": "code",
   "execution_count": null,
   "id": "47c90912-205d-4e69-a692-16b3d3bc9713",
   "metadata": {
    "jupyter": {
     "source_hidden": true
    }
   },
   "outputs": [],
   "source": [
    "#--------------------------------------------- criando estrutura da rede neural ---------------------------------------------#\n",
    "\n",
    "def criar_rede():\n",
    "    k.clear_session()\n",
    "    rede_neural = Sequential(\n",
    "    [\n",
    "        tf.keras.layers.InputLayer(shape = (30,)), #camada de entrada com 30 neurônios\n",
    "    \n",
    "        #camada oculta com 16 neurônios 30 unidades de entrada + 1 unidade de saída / 2 = 16(arrendondado)\n",
    "        tf.keras.layers.Dense(units = 16, activation = 'relu', kernel_initializer = 'random_uniform' ),\n",
    "        tf.keras.layers.Dropout(rate = 0.2),\n",
    "        tf.keras.layers.Dense(units = 16, activation = 'relu', kernel_initializer = 'random_uniform' ),\n",
    "        tf.keras.layers.Dropout(rate = 0.2),\n",
    "        tf.keras.layers.Dense(units = 1, activation = 'sigmoid'), #camada de saída com 1 neurônio\n",
    "    ]\n",
    "        )\n",
    "    otimizador = tf.keras.optimizers.Adam(learning_rate = 0.001, clipvalue = 0.5) #otimizador Adam\n",
    "    rede_neural.compile(optimizer = otimizador, loss = 'binary_crossentropy', metrics = ['binary_accuracy']) # adam = algoritmo de otimização\n",
    "                                                                                                             # binary_crossentropy = função de perda para classificação binária\n",
    "                                                                                                             # loss = função de perda\n",
    "    return rede_neural"
   ]
  },
  {
   "cell_type": "code",
   "execution_count": null,
   "id": "6cbada78-24da-47f6-841e-7d2c5a7e9788",
   "metadata": {},
   "outputs": [],
   "source": [
    "#--------------------------------------------- avaliando a rede neural ---------------------------------------------#  \n",
    "\n",
    "rede_neural = KerasClassifier(model = criar_rede, epochs = 100, batch_size = 10)"
   ]
  },
  {
   "cell_type": "code",
   "execution_count": null,
   "id": "075ab67c-44e1-4bdd-ad0f-63927ccc75dd",
   "metadata": {
    "editable": true,
    "slideshow": {
     "slide_type": ""
    },
    "tags": []
   },
   "outputs": [],
   "source": [
    "#--------------------------------------------- validação cruzada ---------------------------------------------#\n",
    "resultados = cross_val_score(estimator = rede_neural, X = X, y = y, cv = 10, scoring = 'accuracy') #cross_val_score = validação cruzada"
   ]
  },
  {
   "cell_type": "code",
   "execution_count": null,
   "id": "10760059-c22b-4f74-b01e-81c78bc75398",
   "metadata": {},
   "outputs": [],
   "source": [
    "resultados"
   ]
  },
  {
   "cell_type": "code",
   "execution_count": null,
   "id": "56dbe7bb",
   "metadata": {},
   "outputs": [],
   "source": [
    "resultados.mean()"
   ]
  },
  {
   "cell_type": "code",
   "execution_count": null,
   "id": "596d9b93",
   "metadata": {},
   "outputs": [],
   "source": [
    "resultados.std()"
   ]
  }
 ],
 "metadata": {
  "kernelspec": {
   "display_name": "Python [conda env:base] *",
   "language": "python",
   "name": "conda-base-py"
  },
  "language_info": {
   "codemirror_mode": {
    "name": "ipython",
    "version": 3
   },
   "file_extension": ".py",
   "mimetype": "text/x-python",
   "name": "python",
   "nbconvert_exporter": "python",
   "pygments_lexer": "ipython3",
   "version": "3.12.7"
  }
 },
 "nbformat": 4,
 "nbformat_minor": 5
}
