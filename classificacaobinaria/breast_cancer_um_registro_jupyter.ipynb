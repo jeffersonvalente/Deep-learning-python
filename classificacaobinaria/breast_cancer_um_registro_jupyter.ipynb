{
 "cells": [
  {
   "cell_type": "code",
   "execution_count": null,
   "id": "9330d6c2-18ac-4dd7-b888-1a9be3adf406",
   "metadata": {},
   "outputs": [],
   "source": [
    "pip install -r requirements.txt"
   ]
  },
  {
   "cell_type": "code",
   "execution_count": null,
   "id": "4e5c7bd3-d4af-43b3-9290-c14baaecb826",
   "metadata": {},
   "outputs": [],
   "source": [
    "import pandas as pd\n",
    "import sklearn\n",
    "import numpy as np\n",
    "import tensorflow as tf\n",
    "#import scikeras\n",
    "#from tensorflow.keras import backend as k\n",
    "#from scikeras.wrappers import KerasClassifier\n",
    "#from sklearn.model_selection import GridSearchCV\n",
    "from tensorflow.keras.models import Sequential\n",
    "from tensorflow.keras.layers import Dense, InputLayer, Dropout\n"
   ]
  },
  {
   "cell_type": "code",
   "execution_count": null,
   "id": "92dab9af-0103-4c87-8996-8644ccecc816",
   "metadata": {},
   "outputs": [],
   "source": [
    "#--------------------------------------------- carregando a base de dados ---------------------------------------------#\n",
    "\n",
    "#previsores\n",
    "X = pd.read_csv('entradas_breast.csv')\n",
    "\n",
    "#classe\n",
    "y = pd.read_csv('saidas_breast.csv')"
   ]
  },
  {
   "cell_type": "code",
   "execution_count": null,
   "id": "6764b638-bd94-411c-9310-20a3102ab9a8",
   "metadata": {},
   "outputs": [],
   "source": [
    "#--------------------------------------------- criando estrutura da rede neural ---------------------------------------------#\n",
    "\n",
    "classificador = Sequential()\n",
    "classificador.add(InputLayer(shape=(30,)))\n",
    "classificador.add(Dense(units=16, activation='relu', kernel_initializer='random_uniform'))\n",
    "classificador.add(Dropout(0.2))\n",
    "classificador.add(Dense(units=16, activation='relu', kernel_initializer='random_uniform'))\n",
    "classificador.add(Dropout(0.2))\n",
    "classificador.add(Dense(units=1, activation='sigmoid'))"
   ]
  },
  {
   "cell_type": "code",
   "execution_count": null,
   "id": "6be95040-c8e0-45ed-9426-616b9870d9ed",
   "metadata": {},
   "outputs": [],
   "source": [
    "classificador.compile(optimizer='adam', loss = 'binary_crossentropy', metrics=['binary_accuracy'])"
   ]
  },
  {
   "cell_type": "code",
   "execution_count": null,
   "id": "80212b29-2707-4fc8-b148-2ddc340c9f7e",
   "metadata": {
    "scrolled": true
   },
   "outputs": [],
   "source": [
    "classificador.fit(X, y, batch_size=10, epochs=100)"
   ]
  },
  {
   "cell_type": "code",
   "execution_count": null,
   "id": "e3e16468-f78d-4e8e-8c94-ded16fd5744e",
   "metadata": {},
   "outputs": [],
   "source": [
    "novo = np.array([[15.80, 8.34, 118, 900, 1.10, 0.26, 0.08, 0.134, 0.178, 0.20,\n",
    "               0.05, 1098, 0.87, 4500, 143.2, 0.005, 0.04, 0.05, 0.015, 0.03,\n",
    "               0.007, 23.15, 16.64, 178.5, 4018, 0.14, 0.185, 0.84, 158, 0.0363]])"
   ]
  },
  {
   "cell_type": "code",
   "execution_count": null,
   "id": "cebf23b4-f919-4cee-8a0e-412a5b5ea109",
   "metadata": {},
   "outputs": [],
   "source": [
    "previsao = classificador.predict(novo)"
   ]
  },
  {
   "cell_type": "code",
   "execution_count": null,
   "id": "47141436-c40f-4fd3-949c-de9fe09920d6",
   "metadata": {},
   "outputs": [],
   "source": [
    "previsao = previsao > 0.5\n",
    "if previsao:\n",
    "    print('Tumor malígno')\n",
    "else:\n",
    "    print('Tumor benigno')"
   ]
  },
  {
   "cell_type": "code",
   "execution_count": null,
   "id": "ecd8ceae-c3b6-4ded-adb9-0aaf8f281f58",
   "metadata": {},
   "outputs": [],
   "source": [
    "#salva rede neural\n",
    "\n",
    "classificador.save('classificador_breast.keras') "
   ]
  },
  {
   "cell_type": "code",
   "execution_count": null,
   "id": "d304124e-1b9a-404b-ad39-19e72c522334",
   "metadata": {},
   "outputs": [],
   "source": [
    "#carrega rede neural\n",
    "\n",
    "classificador_novo = tf.keras.models.load_model('classificador_breast.keras')"
   ]
  },
  {
   "cell_type": "code",
   "execution_count": null,
   "id": "744e7fd7-c3d4-4d22-ac6b-5bffb8f87778",
   "metadata": {},
   "outputs": [],
   "source": [
    "classificador_novo.predict(novo)"
   ]
  }
 ],
 "metadata": {
  "kernelspec": {
   "display_name": "Python [conda env:base] *",
   "language": "python",
   "name": "conda-base-py"
  },
  "language_info": {
   "codemirror_mode": {
    "name": "ipython",
    "version": 3
   },
   "file_extension": ".py",
   "mimetype": "text/x-python",
   "name": "python",
   "nbconvert_exporter": "python",
   "pygments_lexer": "ipython3",
   "version": "3.12.7"
  }
 },
 "nbformat": 4,
 "nbformat_minor": 5
}
