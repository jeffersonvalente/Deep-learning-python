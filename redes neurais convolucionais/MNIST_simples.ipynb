{
 "cells": [
  {
   "cell_type": "code",
   "execution_count": null,
   "metadata": {},
   "outputs": [],
   "source": [
    "pip install -r requirements.txt"
   ]
  },
  {
   "cell_type": "code",
   "execution_count": null,
   "metadata": {},
   "outputs": [],
   "source": [
    "import tensorflow as tf\n",
    "import keras\n",
    "import numpy as np\n",
    "import matplotlib\n",
    "\n",
    "from tensorflow.keras.datasets import mnist\n",
    "from tensorflow.keras.models import Sequential\n",
    "from tensorflow.keras.layers import InputLayer, Dense, Dropout, Flatten, Conv2D, MaxPooling2D, BatchNormalization\n",
    "from tensorflow.keras import utils as np_utils\n",
    "import matplotlib.pyplot as plt"
   ]
  },
  {
   "cell_type": "code",
   "execution_count": null,
   "metadata": {},
   "outputs": [],
   "source": [
    "(X_treinamento, y_treinamento), (X_teste, y_teste) = mnist.load_data()"
   ]
  },
  {
   "cell_type": "code",
   "execution_count": null,
   "metadata": {},
   "outputs": [],
   "source": [
    "### Visualizando os dados\n",
    "\n",
    "plt.imshow(X_treinamento[1], cmap='gray') # Mostra a imagem\n",
    "plt.title('Classe ' + str(y_treinamento[1])) # Mostra a classe"
   ]
  },
  {
   "cell_type": "code",
   "execution_count": 11,
   "metadata": {},
   "outputs": [],
   "source": [
    "X_treinamento = X_treinamento.reshape(X_treinamento.shape[0], 28, 28, 1) # Adiciona a dimensão de cor (1 = escala de cinza, 3 = RGB)"
   ]
  },
  {
   "cell_type": "code",
   "execution_count": 12,
   "metadata": {},
   "outputs": [],
   "source": [
    "X_teste = X_teste.reshape(X_teste.shape[0], 28, 28, 1) # Adiciona a dimensão de cor (1 = escala de cinza, 3 = RGB)"
   ]
  },
  {
   "cell_type": "code",
   "execution_count": 13,
   "metadata": {},
   "outputs": [],
   "source": [
    "X_treinamento = X_treinamento.astype('float32') # Converte para float"
   ]
  },
  {
   "cell_type": "code",
   "execution_count": 14,
   "metadata": {},
   "outputs": [],
   "source": [
    "X_teste = X_teste.astype('float32') # Converte para float"
   ]
  },
  {
   "cell_type": "code",
   "execution_count": 15,
   "metadata": {},
   "outputs": [],
   "source": [
    "X_treinamento /= 255 # Normaliza os dados para o intervalo [0, 1]\n",
    "X_teste /= 255 # Normaliza os dados para o intervalo [0, 1]"
   ]
  },
  {
   "cell_type": "code",
   "execution_count": 16,
   "metadata": {},
   "outputs": [],
   "source": [
    "y_treinamento = np_utils.to_categorical(y_treinamento, 10) # Converte para one-hot encoding\n",
    "y_teste = np_utils.to_categorical(y_teste, 10) # Converte para one-hot encoding"
   ]
  },
  {
   "cell_type": "code",
   "execution_count": null,
   "metadata": {},
   "outputs": [],
   "source": [
    "########## Criando a CNN\n",
    "\n",
    "rede_neural = Sequential() # Inicializa a rede neural\n",
    "rede_neural.add(InputLayer(input_shape=(28, 28, 1))) # Camada de entrada\n",
    "\n",
    "rede_neural.add(Conv2D(filters = 32, kernel_size = (3, 3), activation='relu')) # Camada de convolução\n",
    "rede_neural.add(MaxPooling2D(pool_size = (2, 2))) # Camada de pooling\n",
    "rede_neural.add(BatchNormalization()) # Camada de normalização\n",
    "\n",
    "rede_neural.add(Conv2D(filters = 32, kernel_size = (3, 3), activation='relu')) # Camada de convolução\n",
    "rede_neural.add(MaxPooling2D(pool_size = (2, 2))) # Camada de pooling\n",
    "rede_neural.add(BatchNormalization()) # Camada de normalização\n",
    "\n",
    "rede_neural.add(Flatten()) # Camada de achatamento\n",
    "\n",
    "rede_neural.add(Dense(units = 128, activation = 'relu')) # Camada oculta\n",
    "rede_neural.add(Dropout(0.2)) # Camada de regularização\n",
    "rede_neural.add(Dense(units = 128, activation = 'relu')) # Camada oculta\n",
    "rede_neural.add(Dropout(0.2)) # Camada de regularização\n",
    "\n",
    "rede_neural.add(Dense(units = 10, activation = 'softmax')) # Camada de saída"
   ]
  },
  {
   "cell_type": "code",
   "execution_count": null,
   "metadata": {},
   "outputs": [],
   "source": [
    "rede_neural.summary() # Mostra um resumo da rede neural"
   ]
  },
  {
   "cell_type": "code",
   "execution_count": 25,
   "metadata": {},
   "outputs": [],
   "source": [
    "rede_neural.compile(loss = 'categorical_crossentropy', optimizer = 'adam', metrics = ['accuracy']) # Compila a rede neural"
   ]
  },
  {
   "cell_type": "code",
   "execution_count": null,
   "metadata": {},
   "outputs": [],
   "source": [
    "rede_neural.fit(X_treinamento, y_treinamento, batch_size = 128, epochs = 50, validation_data = (X_teste, y_teste)) # Treina a rede neural"
   ]
  },
  {
   "cell_type": "code",
   "execution_count": null,
   "metadata": {},
   "outputs": [],
   "source": [
    "resultado = rede_neural.evaluate(X_teste, y_teste) # Avalia a rede neural"
   ]
  },
  {
   "cell_type": "code",
   "execution_count": null,
   "metadata": {},
   "outputs": [],
   "source": [
    "resultado2 = rede_neural.evaluate(X_teste, y_teste) # Avalia a rede neural\n",
    "resultado2"
   ]
  },
  {
   "cell_type": "code",
   "execution_count": null,
   "metadata": {},
   "outputs": [],
   "source": [
    "resultado"
   ]
  },
  {
   "cell_type": "code",
   "execution_count": null,
   "metadata": {},
   "outputs": [],
   "source": []
  }
 ],
 "metadata": {
  "kernelspec": {
   "display_name": "base",
   "language": "python",
   "name": "python3"
  },
  "language_info": {
   "codemirror_mode": {
    "name": "ipython",
    "version": 3
   },
   "file_extension": ".py",
   "mimetype": "text/x-python",
   "name": "python",
   "nbconvert_exporter": "python",
   "pygments_lexer": "ipython3",
   "version": "3.12.7"
  }
 },
 "nbformat": 4,
 "nbformat_minor": 2
}
