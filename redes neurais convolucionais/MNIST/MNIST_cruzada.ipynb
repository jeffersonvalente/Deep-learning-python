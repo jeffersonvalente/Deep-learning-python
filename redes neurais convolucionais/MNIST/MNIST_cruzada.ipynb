{
 "cells": [
  {
   "cell_type": "code",
   "execution_count": null,
   "metadata": {},
   "outputs": [],
   "source": [
    "pip install -r requirements.txt"
   ]
  },
  {
   "cell_type": "code",
   "execution_count": null,
   "metadata": {},
   "outputs": [],
   "source": [
    "import tensorflow as tf\n",
    "import keras\n",
    "import numpy as np\n",
    "import matplotlib\n",
    "import numpy as np\n",
    "\n",
    "from tensorflow.keras.datasets import mnist\n",
    "from tensorflow.keras.models import Sequential\n",
    "from tensorflow.keras.layers import InputLayer, Dense, Flatten, Conv2D, MaxPooling2D\n",
    "from tensorflow.keras import utils as np_utils\n",
    "from sklearn.model_selection import StratifiedKFold"
   ]
  },
  {
   "cell_type": "code",
   "execution_count": 4,
   "metadata": {},
   "outputs": [],
   "source": [
    "(X, y), (X_test, y_test) = mnist.load_data()\n",
    "X = X.reshape(X.shape[0], 28, 28, 1)\n",
    "X = X.astype('float32')\n",
    "X /= 255\n",
    "y = np_utils.to_categorical(y, 10)"
   ]
  },
  {
   "cell_type": "code",
   "execution_count": 5,
   "metadata": {},
   "outputs": [],
   "source": [
    "seed = 5 # fixa seed aleatorio para reproducao\n",
    "np.random.seed(seed) # fixa seed aleatorio para reproducao"
   ]
  },
  {
   "cell_type": "code",
   "execution_count": 6,
   "metadata": {},
   "outputs": [],
   "source": [
    "kfold = StratifiedKFold(n_splits=5, shuffle=True, random_state=seed) # divide o dataset em 5 partes"
   ]
  },
  {
   "cell_type": "code",
   "execution_count": null,
   "metadata": {},
   "outputs": [],
   "source": [
    "resultados = []\n",
    "for indice_treinamento, indice_teste in kfold.split(X, np.zeros(shape=(y.shape[0], 1))):\n",
    "    classificador = Sequential() # Inicializa a rede neural\n",
    "    classificador.add(InputLayer(input_shape=(28, 28, 1))) # Camada de entrada\n",
    "    classificador.add(Conv2D(filters = 32, kernel_size = (3, 3), activation='relu')) # Camada de convolução\n",
    "    classificador.add(MaxPooling2D(pool_size = (2, 2))) # Camada de pooling\n",
    "    classificador.add(Flatten()) # Camada de achatamento\n",
    "    classificador.add(Dense(units = 128, activation = 'relu')) # Camada oculta\n",
    "    classificador.add(Dense(units = 10, activation = 'softmax')) # Camada de saída\n",
    "    classificador.compile(loss = 'categorical_crossentropy', optimizer = 'adam', metrics = ['accuracy']) # Compila a rede neural\n",
    "    classificador.fit(X[indice_treinamento], y[indice_treinamento], batch_size = 128, epochs = 5) # Treina a rede neural\n",
    "    precisao = classificador.evaluate(X[indice_teste], y[indice_teste]) # Testa a rede neural\n",
    "    resultados.append(precisao[1]) # Armazena a precisão da rede neural"
   ]
  },
  {
   "cell_type": "code",
   "execution_count": null,
   "metadata": {},
   "outputs": [],
   "source": [
    "resultados"
   ]
  },
  {
   "cell_type": "code",
   "execution_count": null,
   "metadata": {},
   "outputs": [],
   "source": [
    "np.array(resultados).mean() # Calcula a média das precisões"
   ]
  },
  {
   "cell_type": "code",
   "execution_count": null,
   "metadata": {},
   "outputs": [],
   "source": [
    "np.array(resultados).std() # Calcula o desvio padrão das precisões"
   ]
  },
  {
   "cell_type": "code",
   "execution_count": null,
   "metadata": {},
   "outputs": [],
   "source": []
  }
 ],
 "metadata": {
  "kernelspec": {
   "display_name": "base",
   "language": "python",
   "name": "python3"
  },
  "language_info": {
   "codemirror_mode": {
    "name": "ipython",
    "version": 3
   },
   "file_extension": ".py",
   "mimetype": "text/x-python",
   "name": "python",
   "nbconvert_exporter": "python",
   "pygments_lexer": "ipython3",
   "version": "3.12.7"
  }
 },
 "nbformat": 4,
 "nbformat_minor": 2
}
