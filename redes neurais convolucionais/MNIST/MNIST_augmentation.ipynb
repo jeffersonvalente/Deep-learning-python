{
 "cells": [
  {
   "cell_type": "code",
   "execution_count": null,
   "metadata": {},
   "outputs": [],
   "source": [
    "pip install -r requirements.txt"
   ]
  },
  {
   "cell_type": "code",
   "execution_count": 3,
   "metadata": {},
   "outputs": [],
   "source": [
    "import tensorflow as tf\n",
    "import keras\n",
    "import numpy as np\n",
    "import matplotlib\n",
    "import numpy as np\n",
    "\n",
    "from tensorflow.keras.datasets import mnist\n",
    "from tensorflow.keras.models import Sequential\n",
    "from tensorflow.keras.layers import InputLayer, Dense, Flatten, Conv2D, MaxPooling2D\n",
    "from tensorflow.keras import utils as np_utils\n",
    "from tensorflow.keras.preprocessing.image import ImageDataGenerator # para data augmentation (aumento de dados)"
   ]
  },
  {
   "cell_type": "code",
   "execution_count": 4,
   "metadata": {},
   "outputs": [],
   "source": [
    "(X_treinamento, y_treinamento), (X_teste, y_teste) = mnist.load_data()"
   ]
  },
  {
   "cell_type": "code",
   "execution_count": 5,
   "metadata": {},
   "outputs": [],
   "source": [
    "X_treinamento = X_treinamento.reshape(X_treinamento.shape[0], 28, 28, 1) # 1 = escala de cinza\n",
    "X_teste = X_teste.reshape(X_teste.shape[0], 28, 28, 1) # 1 = escala de cinza\n",
    "X_treinamento = X_treinamento.astype('float32') # converte para float\n",
    "X_teste = X_teste.astype('float32') # converte para float\n",
    "X_treinamento /= 255 # normaliza os valores para o intervalo de 0 a 1\n",
    "X_teste /= 255 # normaliza os valores para o intervalo de 0 a 1\n",
    "y_treinamento = np_utils.to_categorical(y_treinamento, 10) # converte para o formato one-hot encoding\n",
    "y_teste = np_utils.to_categorical(y_teste, 10) # converte para o formato one-hot encoding"
   ]
  },
  {
   "cell_type": "code",
   "execution_count": null,
   "metadata": {},
   "outputs": [],
   "source": [
    "classificador = Sequential() # modelo sequencial\n",
    "classificador.add(InputLayer(input_shape=(28, 28, 1))) # camada de entrada\n",
    "classificador.add(Conv2D(32, (3, 3), activation='relu')) # primeira camada de convolução com 32 filtros 3x3 e função de ativação ReLU\n",
    "classificador.add(MaxPooling2D(pool_size=(2, 2)))  # camada de pooling (agrupamento) com pool de 2x2 (tamanho do filtro) \n",
    "classificador.add(Flatten()) # camada de achatamento (flatten) para transformar a matriz em um vetor\n",
    "classificador.add(Dense(units=128, activation='relu')) # camada oculta com 128 neurônios e função de ativação ReLU\n",
    "classificador.add(Dense(units=10, activation='softmax')) # camada de saída com 10 neurônios (número de classes) e função de ativação softmax\n",
    "classificador.compile(loss='categorical_crossentropy', optimizer='adam', metrics=['accuracy']) # compila o modelo"
   ]
  },
  {
   "cell_type": "code",
   "execution_count": 8,
   "metadata": {},
   "outputs": [],
   "source": [
    "gerador_treinamento = ImageDataGenerator(rotation_range=7, horizontal_flip=True, shear_range=0.2, \n",
    "                                         height_shift_range=0.07, zoom_range=0.2) # cria um gerador de imagens para o treinamento"
   ]
  },
  {
   "cell_type": "code",
   "execution_count": 9,
   "metadata": {},
   "outputs": [],
   "source": [
    "gerador_teste = ImageDataGenerator() # cria um gerador de imagens para o teste"
   ]
  },
  {
   "cell_type": "code",
   "execution_count": 10,
   "metadata": {},
   "outputs": [],
   "source": [
    "base_treinamento = gerador_treinamento.flow(X_treinamento, y_treinamento, batch_size=128) # gera os lotes de imagens para o treinamento"
   ]
  },
  {
   "cell_type": "code",
   "execution_count": 11,
   "metadata": {},
   "outputs": [],
   "source": [
    "base_teste = gerador_teste.flow(X_teste, y_teste, batch_size=128) # gera os lotes de imagens para o teste"
   ]
  },
  {
   "cell_type": "code",
   "execution_count": null,
   "metadata": {},
   "outputs": [],
   "source": [
    "classificador.fit(base_treinamento, epochs=5, validation_data=base_teste) # treina o modelo com os lotes de imagens gerados e valida com os lotes de teste"
   ]
  },
  {
   "cell_type": "code",
   "execution_count": null,
   "metadata": {},
   "outputs": [],
   "source": []
  }
 ],
 "metadata": {
  "kernelspec": {
   "display_name": "base",
   "language": "python",
   "name": "python3"
  },
  "language_info": {
   "codemirror_mode": {
    "name": "ipython",
    "version": 3
   },
   "file_extension": ".py",
   "mimetype": "text/x-python",
   "name": "python",
   "nbconvert_exporter": "python",
   "pygments_lexer": "ipython3",
   "version": "3.12.7"
  }
 },
 "nbformat": 4,
 "nbformat_minor": 2
}
