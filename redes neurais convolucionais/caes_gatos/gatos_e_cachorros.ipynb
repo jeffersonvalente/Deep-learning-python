{
 "cells": [
  {
   "cell_type": "code",
   "execution_count": null,
   "metadata": {},
   "outputs": [],
   "source": [
    "pip install -r requirements.txt"
   ]
  },
  {
   "cell_type": "code",
   "execution_count": 49,
   "metadata": {},
   "outputs": [],
   "source": [
    "import numpy as np\n",
    "import tensorflow as tf\n",
    "import tempfile\n",
    "import zipfile\n",
    "\n",
    "from tensorflow.keras.models import Sequential\n",
    "from tensorflow.keras.layers import InputLayer, Conv2D, MaxPooling2D, Flatten, Dense, Dropout, BatchNormalization\n",
    "from tensorflow.keras.preprocessing import image\n",
    "from tensorflow.keras.preprocessing.image import ImageDataGenerator"
   ]
  },
  {
   "cell_type": "code",
   "execution_count": 50,
   "metadata": {},
   "outputs": [],
   "source": [
    "temp_dir = tempfile.TemporaryDirectory() "
   ]
  },
  {
   "cell_type": "code",
   "execution_count": 51,
   "metadata": {},
   "outputs": [],
   "source": [
    "with zipfile.ZipFile('dataset.zip', 'r') as zip: # Unzipping the dataset\n",
    "    zip.extractall(temp_dir.name)"
   ]
  },
  {
   "cell_type": "code",
   "execution_count": null,
   "metadata": {},
   "outputs": [],
   "source": [
    "classificador = Sequential() # Inicializa a rede neural\n",
    "classificador.add(InputLayer(input_shape=(64, 64, 3))) # Camada de entrada da rede neural (64x64 pixels e 3 canais de cor)\n",
    "\n",
    "classificador.add(Conv2D(32, (3, 3), activation='relu')) # Primeira camada de convolução com 32 filtros 3x3\n",
    "classificador.add(BatchNormalization()) # Normalização dos valores de saída da camada de convolução \n",
    "classificador.add(MaxPooling2D(pool_size=(2, 2))) # Camada de pooling para redução da dimensionalidade\n",
    "\n",
    "classificador.add(Conv2D(32, (3, 3), activation='relu')) # Segunda camada de convolução com 32 filtros 3x3  \n",
    "classificador.add(BatchNormalization()) # Normalização dos valores de saída da camada de convolução\n",
    "classificador.add(MaxPooling2D(pool_size=(2, 2))) # Camada de pooling para redução da dimensionalidade\n",
    "\n",
    "classificador.add(Flatten())  # Camada de achatamento dos valores de saída da camada de pooling para entrada na rede neural densa \n",
    "\n",
    "classificador.add(Dense(units=128, activation='relu')) # Primeira camada densa com 128 neurônios\n",
    "classificador.add(Dropout(0.2)) # Dropout de 20% para evitar overfitting\n",
    "classificador.add(Dense(units=128, activation='relu')) # Segunda camada densa com 128 neurônios\n",
    "classificador.add(Dropout(0.2)) # Dropout de 20% para evitar overfitting\n",
    "\n",
    "classificador.add(Dense(units=1, activation='sigmoid')) # Camada de saída com 1 neurônio e função de ativação sigmoid"
   ]
  },
  {
   "cell_type": "code",
   "execution_count": 53,
   "metadata": {},
   "outputs": [],
   "source": [
    "classificador.compile(optimizer='adam', loss='binary_crossentropy', metrics=['accuracy']) # Compilação do modelo com otimizador Adam, função de perda entropia cruzada binária e métrica de acurácia"
   ]
  },
  {
   "cell_type": "code",
   "execution_count": 54,
   "metadata": {},
   "outputs": [],
   "source": [
    "gerador_treinamento = ImageDataGenerator(rescale=1./255, rotation_range=7, \n",
    "                                         horizontal_flip=True, shear_range=0.2, height_shift_range=0.07, zoom_range=0.2) # Gerador de imagens para o conjunto de treinamento"
   ]
  },
  {
   "cell_type": "code",
   "execution_count": 55,
   "metadata": {},
   "outputs": [],
   "source": [
    "gerador_teste = ImageDataGenerator(rescale=1./255) # Gerador de imagens para o conjunto de teste"
   ]
  },
  {
   "cell_type": "code",
   "execution_count": null,
   "metadata": {},
   "outputs": [],
   "source": [
    "base_treinamento = gerador_treinamento.flow_from_directory(temp_dir.name + '/dataset/training_set', \n",
    "                                                           target_size=(64, 64), batch_size=32, class_mode='binary') # Carregamento do conjunto de treinamento"
   ]
  },
  {
   "cell_type": "code",
   "execution_count": null,
   "metadata": {},
   "outputs": [],
   "source": [
    "base_teste = gerador_teste.flow_from_directory(temp_dir.name + '/dataset/test_set', \n",
    "                                               target_size=(64, 64), batch_size=32, class_mode='binary') # Carregamento do conjunto de treinamento"
   ]
  },
  {
   "cell_type": "code",
   "execution_count": null,
   "metadata": {},
   "outputs": [],
   "source": [
    "classificador.fit(base_treinamento, epochs=10, validation_data=base_teste) # Treinamento do modelo"
   ]
  },
  {
   "cell_type": "code",
   "execution_count": 67,
   "metadata": {},
   "outputs": [],
   "source": [
    "imagem_teste = image.load_img(f'{temp_dir.name}/dataset/training_set/cachorro/dog.1922.jpg', target_size=(64, 64)) # Carregamento de uma imagem de teste"
   ]
  },
  {
   "cell_type": "code",
   "execution_count": 68,
   "metadata": {},
   "outputs": [],
   "source": [
    "imagem_teste = image.img_to_array(imagem_teste) # Conversão da imagem para um array"
   ]
  },
  {
   "cell_type": "code",
   "execution_count": 69,
   "metadata": {},
   "outputs": [],
   "source": [
    "imagem_teste /= 255 # Normalização dos valores dos pixels"
   ]
  },
  {
   "cell_type": "code",
   "execution_count": 73,
   "metadata": {},
   "outputs": [],
   "source": [
    "imagem_teste = np.expand_dims(imagem_teste, axis=0) # Expansão da dimensão da imagem para ser compatível com a entrada da rede neural"
   ]
  },
  {
   "cell_type": "code",
   "execution_count": null,
   "metadata": {},
   "outputs": [],
   "source": [
    "imagem_teste.shape"
   ]
  },
  {
   "cell_type": "code",
   "execution_count": null,
   "metadata": {},
   "outputs": [],
   "source": [
    "previsao = classificador.predict(imagem_teste) # Previsão da imagem"
   ]
  },
  {
   "cell_type": "code",
   "execution_count": 79,
   "metadata": {},
   "outputs": [],
   "source": [
    "previsao = previsao > 0.5 # Atribuição de True para a previsão maior que 0.5 e False para a previsão menor que 0.5"
   ]
  },
  {
   "cell_type": "code",
   "execution_count": null,
   "metadata": {},
   "outputs": [],
   "source": [
    "previsao"
   ]
  },
  {
   "cell_type": "code",
   "execution_count": null,
   "metadata": {},
   "outputs": [],
   "source": []
  }
 ],
 "metadata": {
  "kernelspec": {
   "display_name": "base",
   "language": "python",
   "name": "python3"
  },
  "language_info": {
   "codemirror_mode": {
    "name": "ipython",
    "version": 3
   },
   "file_extension": ".py",
   "mimetype": "text/x-python",
   "name": "python",
   "nbconvert_exporter": "python",
   "pygments_lexer": "ipython3",
   "version": "3.12.7"
  }
 },
 "nbformat": 4,
 "nbformat_minor": 2
}
