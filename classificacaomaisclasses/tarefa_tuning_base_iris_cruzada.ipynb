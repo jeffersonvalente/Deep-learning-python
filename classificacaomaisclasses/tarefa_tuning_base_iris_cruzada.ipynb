{
 "cells": [
  {
   "cell_type": "code",
   "execution_count": null,
   "metadata": {},
   "outputs": [],
   "source": [
    "pip install -r requirements.txt"
   ]
  },
  {
   "cell_type": "code",
   "execution_count": 2,
   "metadata": {},
   "outputs": [],
   "source": [
    "import pandas as pd\n",
    "import tensorflow as tf\n",
    "import sklearn\n",
    "import scikeras\n",
    "from scikeras.wrappers import KerasClassifier\n",
    "from sklearn.preprocessing import LabelEncoder\n",
    "from tensorflow.keras import utils as np_utils\n",
    "from tensorflow.keras import backend as k\n",
    "from tensorflow.keras.models import Sequential\n",
    "from sklearn.model_selection import cross_val_score\n",
    "from sklearn.model_selection import GridSearchCV"
   ]
  },
  {
   "cell_type": "code",
   "execution_count": 18,
   "metadata": {},
   "outputs": [],
   "source": [
    "#-----------------------------Carrega a base e faz o tratamento dela--------------------------\n",
    "base = pd.read_csv('iris.csv')\n",
    "X = base.iloc [:, 0:4].values\n",
    "y = base.iloc [:, 4].values"
   ]
  },
  {
   "cell_type": "code",
   "execution_count": 19,
   "metadata": {},
   "outputs": [],
   "source": [
    "#pega os valores das 4 primeiras colunas (0:4)\n",
    "#pega o valor da ultima coluna\n",
    "\n",
    "labelenconder = LabelEncoder()\n",
    "y = labelenconder.fit_transform(y)\n",
    "#y = np_utils.to_categorical(y)"
   ]
  },
  {
   "cell_type": "code",
   "execution_count": 20,
   "metadata": {},
   "outputs": [],
   "source": [
    "#-----------------------------------criação da rede neural---------------------------------\n",
    "\n",
    "def criar_rede(optimizer, loss, kernel_initializer, activation, neurons):\n",
    "    k.clear_session()\n",
    "    rede_neural = Sequential ([\n",
    "        tf.keras.layers.InputLayer(shape = (4, )),\n",
    "        tf.keras.layers.Dense(units = neurons, activation = activation, kernel_initializer = kernel_initializer),\n",
    "        tf.keras.layers.Dropout(rate = 0.2),\n",
    "        tf.keras.layers.Dense(units = neurons, activation = activation, kernel_initializer = kernel_initializer),\n",
    "        tf.keras.layers.Dropout(rate = 0.2),\n",
    "        tf.keras.layers.Dense(units = 3, activation = 'softmax')\n",
    "    ])\n",
    "    rede_neural.compile(optimizer= optimizer, loss = loss , metrics=['accuracy'])\n",
    "    return rede_neural"
   ]
  },
  {
   "cell_type": "code",
   "execution_count": 21,
   "metadata": {},
   "outputs": [],
   "source": [
    "rede_neural = KerasClassifier(model = criar_rede)"
   ]
  },
  {
   "cell_type": "code",
   "execution_count": 22,
   "metadata": {},
   "outputs": [],
   "source": [
    "parametros = {\n",
    "    'batch_size': [10,30],\n",
    "    'epochs': [500,1000],\n",
    "    'model__optimizer': ['adam', 'sgd'],\n",
    "    'model__loss': ['sparse_categorical_crossentropy'],\n",
    "    'model__kernel_initializer': ['random_uniform', 'normal'],\n",
    "    'model__activation': ['relu', 'tanh'],\n",
    "    'model__neurons': [16,8]\n",
    "}"
   ]
  },
  {
   "cell_type": "code",
   "execution_count": 23,
   "metadata": {},
   "outputs": [],
   "source": [
    "grid_search = GridSearchCV(estimator = rede_neural, param_grid = parametros,\n",
    "                           cv =5)"
   ]
  },
  {
   "cell_type": "code",
   "execution_count": null,
   "metadata": {},
   "outputs": [],
   "source": [
    "grid_search = grid_search.fit(X,y)"
   ]
  },
  {
   "cell_type": "code",
   "execution_count": null,
   "metadata": {},
   "outputs": [],
   "source": [
    "melhores_parametros = grid_search.best_params_\n",
    "print(melhores_parametros)"
   ]
  },
  {
   "cell_type": "code",
   "execution_count": null,
   "metadata": {},
   "outputs": [],
   "source": [
    "melhor_precisao = grid_search.best_score_\n",
    "print(melhor_precisao)"
   ]
  }
 ],
 "metadata": {
  "kernelspec": {
   "display_name": "base",
   "language": "python",
   "name": "python3"
  },
  "language_info": {
   "codemirror_mode": {
    "name": "ipython",
    "version": 3
   },
   "file_extension": ".py",
   "mimetype": "text/x-python",
   "name": "python",
   "nbconvert_exporter": "python",
   "pygments_lexer": "ipython3",
   "version": "3.12.7"
  }
 },
 "nbformat": 4,
 "nbformat_minor": 2
}
