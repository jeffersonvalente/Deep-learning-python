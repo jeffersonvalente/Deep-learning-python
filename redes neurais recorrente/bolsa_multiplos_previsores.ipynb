{
 "cells": [
  {
   "cell_type": "code",
   "execution_count": null,
   "metadata": {},
   "outputs": [],
   "source": [
    "pip install -r requirements.txt"
   ]
  },
  {
   "cell_type": "code",
   "execution_count": 4,
   "metadata": {},
   "outputs": [],
   "source": [
    "import numpy as np\n",
    "import pandas as pd\n",
    "import matplotlib\n",
    "import tensorflow as tf\n",
    "import sklearn\n",
    "import matplotlib.pyplot as plt\n",
    "\n",
    "from tensorflow.keras.models import Sequential\n",
    "from tensorflow.keras.layers import InputLayer, Dense, Dropout, LSTM\n",
    "from sklearn.preprocessing import MinMaxScaler\n",
    "from tensorflow.keras.callbacks import EarlyStopping, ReduceLROnPlateau, ModelCheckpoint\n"
   ]
  },
  {
   "cell_type": "code",
   "execution_count": 5,
   "metadata": {},
   "outputs": [],
   "source": [
    "base = pd.read_csv('petr4_treinamento.csv') # Importando a base de dados\n",
    "base = base.dropna() # Removendo valores nulos"
   ]
  },
  {
   "cell_type": "code",
   "execution_count": 6,
   "metadata": {},
   "outputs": [],
   "source": [
    "base_treinamento = base.iloc[:, 1:7].values # Pegando apenas a coluna de abertura"
   ]
  },
  {
   "cell_type": "code",
   "execution_count": 7,
   "metadata": {},
   "outputs": [],
   "source": [
    "normalizador = MinMaxScaler(feature_range=(0,1)) # Normalizando os dados\n",
    "base_treinamento_normalizada = normalizador.fit_transform(base_treinamento)"
   ]
  },
  {
   "cell_type": "code",
   "execution_count": null,
   "metadata": {},
   "outputs": [],
   "source": [
    "normalizador_previsao = MinMaxScaler(feature_range=(0,1)) # Normalizando os dados\n",
    "normalizador_previsao.fit_transform(base_treinamento[:,0:1])"
   ]
  },
  {
   "cell_type": "code",
   "execution_count": 10,
   "metadata": {},
   "outputs": [],
   "source": [
    "X = [] # Criando a lista de previsores\n",
    "y = [] # Criando a lista de valores reais\n",
    "for i in range(90, 1242): # Pegando os 90 primeiros valores para prever o 91\n",
    "    X.append(base_treinamento_normalizada[i-90:i, 0:6]) # Pegando os 90 valores anteriores\n",
    "    y.append(base_treinamento_normalizada[i, 0]) # Pegando o valor atual\n",
    "\n",
    "X, y = np.array(X), np.array(y) # Transformando em array"
   ]
  },
  {
   "cell_type": "code",
   "execution_count": null,
   "metadata": {},
   "outputs": [],
   "source": [
    "regressor = Sequential() #iniciar a rede neural\n",
    "\n",
    "regressor.add(LSTM(units = 100, return_sequences = True, input_shape = (X.shape[1], 6))) #camada de entrada com 100 neuronios e 90 camadas de entrada (X.shape[1] = 90)\n",
    "regressor.add(Dropout(0.3)) #zerar 30% dos neuronios para evitar overfitting\n",
    "\n",
    "regressor.add(LSTM(units = 50, return_sequences = True)) #camada oculta com 50 neuronios\n",
    "regressor.add(Dropout(0.3)) #zerar 30% dos neuronios para evitar overfitting\n",
    "\n",
    "regressor.add(LSTM(units = 50, return_sequences = True)) #camada oculta com 50 neuronios\n",
    "regressor.add(Dropout(0.3)) #zerar 30% dos neuronios para evitar overfitting\n",
    "\n",
    "regressor.add(LSTM(units = 50)) #camada oculta com 50 neuronios\n",
    "regressor.add(Dropout(0.3)) #zerar 30% dos neuronios para evitar overfitting\n",
    "\n",
    "regressor.add(Dense(units = 1, activation = 'linear')) #camada de saida com 1 neuronio\n",
    "\n",
    "regressor.summary() #resumo da rede neural"
   ]
  },
  {
   "cell_type": "code",
   "execution_count": 12,
   "metadata": {},
   "outputs": [],
   "source": [
    "regressor.compile(optimizer = 'adam', loss = 'mean_squared_error', metrics=['mean_absolute_error']) #compilando a rede neural"
   ]
  },
  {
   "cell_type": "code",
   "execution_count": 13,
   "metadata": {},
   "outputs": [],
   "source": [
    "es = EarlyStopping(monitor='loss', min_delta=1e-10, patience=10, verbose=True) #parar o treinamento quando a rede neural parar de aprender\n",
    "rlr = ReduceLROnPlateau(monitor='loss', factor=0.2, patience=5, verbose=1) #diminuir a taxa de aprendizado quando a rede neural parar de aprender\n",
    "mcp = ModelCheckpoint(filepath='pesos.keras', monitor='loss', save_best_only=True, verbose=1) #salvar os melhores pesos\n"
   ]
  },
  {
   "cell_type": "code",
   "execution_count": null,
   "metadata": {},
   "outputs": [],
   "source": [
    "regressor.fit(X, y, epochs = 100, batch_size = 32, callbacks=[es, rlr, mcp]) #treinando a rede neural "
   ]
  },
  {
   "cell_type": "code",
   "execution_count": 24,
   "metadata": {},
   "outputs": [],
   "source": [
    "base_teste = pd.read_csv('petr4_teste.csv') #importando a base de dados de teste\n",
    "y_teste = base_teste.iloc[:, 1:2].values #pegando a coluna de abertura\n",
    "frames = [base, base_teste] #juntando as duas bases de dados\n",
    "base_completa = pd.concat(frames) #juntando as duas bases de dados"
   ]
  },
  {
   "cell_type": "code",
   "execution_count": 25,
   "metadata": {},
   "outputs": [],
   "source": [
    "base_completa = base_completa.drop('Date', axis = 1) #removendo a coluna de data"
   ]
  },
  {
   "cell_type": "code",
   "execution_count": 26,
   "metadata": {},
   "outputs": [],
   "source": [
    "entradas = base_completa[len(base_completa) - len(base_teste) - 90:].values #pegando os 90 valores anteriores ao primeiro valor da base de teste"
   ]
  },
  {
   "cell_type": "code",
   "execution_count": 27,
   "metadata": {},
   "outputs": [],
   "source": [
    "entradas = normalizador.transform(entradas) #normalizando os valores"
   ]
  },
  {
   "cell_type": "code",
   "execution_count": null,
   "metadata": {},
   "outputs": [],
   "source": [
    "X_teste = [] #criando a lista de previsores\n",
    "for i in range(90, 112): #pegando os 90 primeiros valores para prever o 91\n",
    "    X_teste.append(entradas[i-90:i, 0:6]) #pegando os 90 valores anteriores\n",
    "X_teste = np.array(X_teste) #transformando em array"
   ]
  },
  {
   "cell_type": "code",
   "execution_count": null,
   "metadata": {},
   "outputs": [],
   "source": [
    "previsoes = regressor.predict(X_teste) #fazendo as previsoes"
   ]
  },
  {
   "cell_type": "code",
   "execution_count": 37,
   "metadata": {},
   "outputs": [],
   "source": [
    "previsoes = normalizador_previsao.inverse_transform(previsoes) #desnormalizando os valores"
   ]
  },
  {
   "cell_type": "code",
   "execution_count": null,
   "metadata": {},
   "outputs": [],
   "source": [
    "previsoes"
   ]
  },
  {
   "cell_type": "code",
   "execution_count": null,
   "metadata": {},
   "outputs": [],
   "source": [
    "y_teste"
   ]
  },
  {
   "cell_type": "code",
   "execution_count": null,
   "metadata": {},
   "outputs": [],
   "source": [
    "previsoes.mean()"
   ]
  },
  {
   "cell_type": "code",
   "execution_count": null,
   "metadata": {},
   "outputs": [],
   "source": [
    "y_teste.mean()"
   ]
  },
  {
   "cell_type": "code",
   "execution_count": null,
   "metadata": {},
   "outputs": [],
   "source": [
    "from sklearn.metrics import mean_absolute_error\n",
    "mean_absolute_error(y_teste, previsoes)"
   ]
  },
  {
   "cell_type": "code",
   "execution_count": null,
   "metadata": {},
   "outputs": [],
   "source": []
  }
 ],
 "metadata": {
  "kernelspec": {
   "display_name": "base",
   "language": "python",
   "name": "python3"
  },
  "language_info": {
   "codemirror_mode": {
    "name": "ipython",
    "version": 3
   },
   "file_extension": ".py",
   "mimetype": "text/x-python",
   "name": "python",
   "nbconvert_exporter": "python",
   "pygments_lexer": "ipython3",
   "version": "3.12.7"
  }
 },
 "nbformat": 4,
 "nbformat_minor": 2
}
