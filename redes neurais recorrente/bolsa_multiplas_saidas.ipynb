{
 "cells": [
  {
   "cell_type": "code",
   "execution_count": null,
   "metadata": {},
   "outputs": [],
   "source": [
    "pip install -r requirements.txt"
   ]
  },
  {
   "cell_type": "code",
   "execution_count": 2,
   "metadata": {},
   "outputs": [],
   "source": [
    "import numpy as np\n",
    "import pandas as pd\n",
    "import matplotlib.pyplot as plt\n",
    "import sklearn\n",
    "\n",
    "from tensorflow.keras.models import Sequential\n",
    "from tensorflow.keras.layers import InputLayer, Dense, Dropout, LSTM\n",
    "from sklearn.preprocessing import MinMaxScaler\n",
    "from matplotlib import pyplot as plt"
   ]
  },
  {
   "cell_type": "code",
   "execution_count": 3,
   "metadata": {},
   "outputs": [],
   "source": [
    "base = pd.read_csv('petr4_treinamento.csv') # Importando a base de dados\n",
    "base = base.dropna() # Removendo os valores nulos\n",
    "base_treinamento = base.iloc[:, 1:2].values # Pegando somente a coluna de abertura\n",
    "base_valor_maximo = base.iloc[:, 2:3].values # Pegando somente a coluna de valor máximo"
   ]
  },
  {
   "cell_type": "code",
   "execution_count": 4,
   "metadata": {},
   "outputs": [],
   "source": [
    "normalizador = MinMaxScaler(feature_range=(0, 1)) # Normaliza os dados\n",
    "base_treinamento_normalizada = normalizador.fit_transform(base_treinamento) # Normaliza os dados de treinamento e teste com base no valor máximo e mínimo\n",
    "base_valor_maximo_normalizada = normalizador.fit_transform(base_valor_maximo) # Normaliza os dados de treinamento e teste com base no valor máximo e mínimo"
   ]
  },
  {
   "cell_type": "code",
   "execution_count": 5,
   "metadata": {},
   "outputs": [],
   "source": [
    "X = [] # Prepara a estrutura de dados para o treinamento\n",
    "y1 = [] # Prepara a estrutura de dados para o treinamento\n",
    "y2 = [] # Prepara a estrutura de dados para o treinamento\n",
    "for i in range(90, 1242): # 90 registros anteriores\n",
    "    X.append(base_treinamento_normalizada[i-90:i, 0]) # Pega os 90 registros anteriores\n",
    "    y1.append(base_treinamento_normalizada[i, 0]) # Pega o registro atual de abertura\n",
    "    y2.append(base_valor_maximo_normalizada[i, 0]) # Pega o registro atual de valor máximo\n",
    "X, y1, y2 = np.array(X), np.array(y1), np.array(y2) # Transforma em array \n",
    "X = np.reshape(X, (X.shape[0], X.shape[1], 1)) # Transforma em 3D para o LSTM"
   ]
  },
  {
   "cell_type": "code",
   "execution_count": 6,
   "metadata": {},
   "outputs": [],
   "source": [
    "y = np.column_stack((y1, y2)) # Junta os valores de abertura e valor máximo"
   ]
  },
  {
   "cell_type": "code",
   "execution_count": null,
   "metadata": {},
   "outputs": [],
   "source": [
    "regressor = Sequential() # Inicializa a rede neural\n",
    "regressor.add(InputLayer(input_shape=(X.shape[1], 1))) # Adiciona a camada de entrada\n",
    "regressor.add(LSTM(units=100, return_sequences=True)) # Adiciona a camada LSTM com 100 neurônios e retorna a sequência de valores para a próxima camada\n",
    "regressor.add(Dropout(0.3)) # Adiciona a camada de dropout para evitar overfitting\n",
    "\n",
    "regressor.add(LSTM(units=50, return_sequences=True)) # Adiciona a camada LSTM com 50 neurônios e retorna a sequência de valores para a próxima camada\n",
    "regressor.add(Dropout(0.3)) # Adiciona a camada de dropout para evitar overfitting\n",
    "\n",
    "regressor.add(LSTM(units=50)) # Adiciona a camada LSTM com 50 neurônios\n",
    "regressor.add(Dropout(0.3)) # Adiciona a camada de dropout para evitar overfitting\n",
    "\n",
    "regressor.add(Dense(units=2, activation='linear')) # Adiciona a camada de saída com 2 neurônios"
   ]
  },
  {
   "cell_type": "code",
   "execution_count": 9,
   "metadata": {},
   "outputs": [],
   "source": [
    "regressor.compile(optimizer='rmsprop', loss='mean_squared_error', metrics=['mean_absolute_error']) # Compila a rede neural"
   ]
  },
  {
   "cell_type": "code",
   "execution_count": null,
   "metadata": {},
   "outputs": [],
   "source": [
    "regressor.fit(X, y, epochs=100, batch_size=32) # Treina a rede neural"
   ]
  },
  {
   "cell_type": "code",
   "execution_count": 11,
   "metadata": {},
   "outputs": [],
   "source": [
    "base_teste = pd.read_csv('petr4_teste.csv') # Importa a base de teste\n",
    "y_open = base_teste.iloc[:, 1:2].values # Pega somente a coluna de abertura\n",
    "y_high = base_teste.iloc[:, 2:3].values # Pega somente a coluna de valor máximo"
   ]
  },
  {
   "cell_type": "code",
   "execution_count": 12,
   "metadata": {},
   "outputs": [],
   "source": [
    "base_completa = pd.concat((base['Open'], base_teste['Open']), axis=0) # Concatena a base de treinamento com a base de teste\n",
    "entradas = base_completa[len(base_completa) - len(base_teste) - 90:].values # Pega os 90 registros anteriores ao teste \n",
    "entradas = entradas.reshape(-1, 1) # Transforma em 1D\n",
    "entradas = normalizador.transform(entradas) # Normaliza os dados de entrada"
   ]
  },
  {
   "cell_type": "code",
   "execution_count": 13,
   "metadata": {},
   "outputs": [],
   "source": [
    "X_teste = [] # Prepara a estrutura de dados para o teste\n",
    "for i in range(90, 112): # 90 registros anteriores\n",
    "    X_teste.append(entradas[i-90:i, 0]) # Pega os 90 registros anteriores\n",
    "X_teste = np.array(X_teste) # Transforma em array\n",
    "X_teste = np.reshape(X_teste, (X_teste.shape[0], X_teste.shape[1], 1)) # Transforma em 3D para o LSTM"
   ]
  },
  {
   "cell_type": "code",
   "execution_count": null,
   "metadata": {},
   "outputs": [],
   "source": [
    "previsoes = regressor.predict(X_teste) # Faz a previsão com base nos dados de teste normalizados\n",
    "previsoes = normalizador.inverse_transform(previsoes) # Desnormaliza os dados de previsão"
   ]
  },
  {
   "cell_type": "code",
   "execution_count": null,
   "metadata": {},
   "outputs": [],
   "source": [
    "from sklearn.metrics import mean_absolute_error\n",
    "print(mean_absolute_error(y_open, previsoes[:, 0])) # Calcula o erro médio absoluto para a abertura\n",
    "print(mean_absolute_error(y_high, previsoes[:, 1])) # Calcula o erro médio absoluto para o valor máximo"
   ]
  },
  {
   "cell_type": "code",
   "execution_count": null,
   "metadata": {},
   "outputs": [],
   "source": [
    "plt.plot(y_open, color='red', label='Preço Abertura Real') # Plota o gráfico com os valores reais de abertura\n",
    "plt.plot(y_high, color='black', label='Preço Máximo Real') # Plota o gráfico com os valores reais de valor máximo\n",
    "\n",
    "plt.plot(previsoes[:, 0], color='blue', label='Preço Abertura Previsto') # Plota o gráfico com os valores previstos de abertura\n",
    "plt.plot(previsoes[:, 1], color='orange', label='Preço Máximo Previsto') # Plota o gráfico com os valores previstos de valor máximo\n",
    "\n",
    "plt.title('Previsão de preços das ações da Petrobras') # Adiciona o título ao gráfico\n",
    "plt.xlabel('Tempo') # Adiciona o rótulo do eixo x\n",
    "plt.ylabel('Valor') # Adiciona o rótulo do eixo y\n",
    "plt.legend() # Adiciona a legenda"
   ]
  },
  {
   "cell_type": "code",
   "execution_count": null,
   "metadata": {},
   "outputs": [],
   "source": []
  }
 ],
 "metadata": {
  "kernelspec": {
   "display_name": "base",
   "language": "python",
   "name": "python3"
  },
  "language_info": {
   "codemirror_mode": {
    "name": "ipython",
    "version": 3
   },
   "file_extension": ".py",
   "mimetype": "text/x-python",
   "name": "python",
   "nbconvert_exporter": "python",
   "pygments_lexer": "ipython3",
   "version": "3.12.7"
  }
 },
 "nbformat": 4,
 "nbformat_minor": 2
}
