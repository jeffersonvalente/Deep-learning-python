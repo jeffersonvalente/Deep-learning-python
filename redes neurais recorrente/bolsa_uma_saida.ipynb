{
 "cells": [
  {
   "cell_type": "code",
   "execution_count": null,
   "metadata": {},
   "outputs": [],
   "source": [
    "pip install -r requirements.txt"
   ]
  },
  {
   "cell_type": "code",
   "execution_count": 33,
   "metadata": {},
   "outputs": [],
   "source": [
    "import numpy as np\n",
    "import pandas as pd\n",
    "import matplotlib\n",
    "import tensorflow\n",
    "import sklearn\n",
    "import matplotlib.pyplot as plt\n",
    "\n",
    "from tensorflow.keras.models import Sequential\n",
    "from tensorflow.keras.layers import Dense, Dropout, LSTM\n",
    "from sklearn.preprocessing import MinMaxScaler\n",
    "from sklearn.metrics import  mean_absolute_error"
   ]
  },
  {
   "cell_type": "code",
   "execution_count": 6,
   "metadata": {},
   "outputs": [],
   "source": [
    "base =pd.read_csv('petr4_treinamento.csv')  #base de dados"
   ]
  },
  {
   "cell_type": "code",
   "execution_count": null,
   "metadata": {},
   "outputs": [],
   "source": [
    "base.isnull().sum() #verificar se tem valores nulos"
   ]
  },
  {
   "cell_type": "code",
   "execution_count": 8,
   "metadata": {},
   "outputs": [],
   "source": [
    "base = base.dropna() #excluir valores nulos"
   ]
  },
  {
   "cell_type": "code",
   "execution_count": 9,
   "metadata": {},
   "outputs": [],
   "source": [
    "base_treinamento = base.iloc[:, 1:2].values #variaveis independentes (preço de abertura)"
   ]
  },
  {
   "cell_type": "code",
   "execution_count": 10,
   "metadata": {},
   "outputs": [],
   "source": [
    "normalizador = MinMaxScaler(feature_range=(0,1)) #normalizar os dados\n",
    "base_treinamento_normalizada = normalizador.fit_transform(base_treinamento)"
   ]
  },
  {
   "cell_type": "code",
   "execution_count": 11,
   "metadata": {},
   "outputs": [],
   "source": [
    "X = [] \n",
    "y =[]\n",
    "for i in range(90, 1242):\n",
    "    X.append(base_treinamento_normalizada[i-90:i, 0]) #pegar os 90 primeiros valores e colocar em X\n",
    "    y.append(base_treinamento_normalizada[i, 0]) #pegar o valor seguinte e colocar em y\n",
    "X, y = np.array(X), np.array(y) #transformar em array"
   ]
  },
  {
   "cell_type": "code",
   "execution_count": null,
   "metadata": {},
   "outputs": [],
   "source": [
    "regressor = Sequential() #iniciar a rede neural\n",
    "\n",
    "regressor.add(LSTM(units = 100, return_sequences = True, input_shape = (X.shape[1], 1))) #camada de entrada com 100 neuronios e 90 camadas de entrada (X.shape[1] = 90)\n",
    "regressor.add(Dropout(0.3)) #zerar 30% dos neuronios para evitar overfitting\n",
    "\n",
    "regressor.add(LSTM(units = 50, return_sequences = True)) #camada oculta com 50 neuronios\n",
    "regressor.add(Dropout(0.3)) #zerar 30% dos neuronios para evitar overfitting\n",
    "\n",
    "regressor.add(LSTM(units = 50, return_sequences = True)) #camada oculta com 50 neuronios\n",
    "regressor.add(Dropout(0.3)) #zerar 30% dos neuronios para evitar overfitting\n",
    "\n",
    "regressor.add(LSTM(units = 50)) #camada oculta com 50 neuronios\n",
    "regressor.add(Dropout(0.3)) #zerar 30% dos neuronios para evitar overfitting\n",
    "\n",
    "regressor.add(Dense(units = 1, activation = 'linear')) #camada de saida com 1 neuronio\n",
    "\n",
    "regressor.summary() #resumo da rede neural"
   ]
  },
  {
   "cell_type": "code",
   "execution_count": 14,
   "metadata": {},
   "outputs": [],
   "source": [
    "regressor.compile(optimizer = 'rmsprop', loss = 'mean_squared_error', metrics= ['mean_absolute_error']) #compilar a rede neural com o otimizador rmsprop e a função de perda mean_squared_error (erro quadrático médio)"
   ]
  },
  {
   "cell_type": "code",
   "execution_count": null,
   "metadata": {},
   "outputs": [],
   "source": [
    "regressor.fit(X, y, epochs = 100, batch_size = 32) #treinar a rede neural"
   ]
  },
  {
   "cell_type": "code",
   "execution_count": 54,
   "metadata": {},
   "outputs": [],
   "source": [
    "base_teste = pd.read_csv('petr4_teste.csv') #base de teste\n",
    "y_teste = base_teste.iloc[:, 1:2].values #variaveis independentes (preço de abertura)"
   ]
  },
  {
   "cell_type": "code",
   "execution_count": 55,
   "metadata": {},
   "outputs": [],
   "source": [
    "base_completa = pd.concat((base['Open'], base_teste['Open']), axis = 0) #concatenar as bases de treinamento e teste"
   ]
  },
  {
   "cell_type": "code",
   "execution_count": 56,
   "metadata": {},
   "outputs": [],
   "source": [
    "entradas = base_completa[len(base_completa) - len(base_teste) - 90:].values #pegar os 90 valores anteriores ao primeiro valor da base de teste"
   ]
  },
  {
   "cell_type": "code",
   "execution_count": 57,
   "metadata": {},
   "outputs": [],
   "source": [
    "entradas = entradas.reshape(-1, 1) #transformar em array"
   ]
  },
  {
   "cell_type": "code",
   "execution_count": 58,
   "metadata": {},
   "outputs": [],
   "source": [
    "entradas = normalizador.transform(entradas) #normalizar os dados"
   ]
  },
  {
   "cell_type": "code",
   "execution_count": 59,
   "metadata": {},
   "outputs": [],
   "source": [
    "X_teste = [] #variavel para armazenar os valores de teste\n",
    "for i in range(90, 112): #pegar os 90 primeiros valores e colocar em X_teste\n",
    "    X_teste.append(entradas[i-90:i, 0])"
   ]
  },
  {
   "cell_type": "code",
   "execution_count": 60,
   "metadata": {},
   "outputs": [],
   "source": [
    "X_teste = np.array(X_teste) #transformar em array\n",
    "X_teste = np.reshape(X_teste, (X_teste.shape[0], X_teste.shape[1], 1)) #transformar em array tridimensional"
   ]
  },
  {
   "cell_type": "code",
   "execution_count": null,
   "metadata": {},
   "outputs": [],
   "source": [
    "previsoes = regressor.predict(X_teste) #prever os valores"
   ]
  },
  {
   "cell_type": "code",
   "execution_count": 62,
   "metadata": {},
   "outputs": [],
   "source": [
    "previsoes = normalizador.inverse_transform(previsoes) #desnormalizar os valores"
   ]
  },
  {
   "cell_type": "code",
   "execution_count": null,
   "metadata": {},
   "outputs": [],
   "source": [
    "previsoes"
   ]
  },
  {
   "cell_type": "code",
   "execution_count": null,
   "metadata": {},
   "outputs": [],
   "source": [
    "y_teste"
   ]
  },
  {
   "cell_type": "code",
   "execution_count": null,
   "metadata": {},
   "outputs": [],
   "source": [
    "previsoes.mean() #média das previsões\n"
   ]
  },
  {
   "cell_type": "code",
   "execution_count": null,
   "metadata": {},
   "outputs": [],
   "source": [
    "y_teste.mean() #média dos valores reais"
   ]
  },
  {
   "cell_type": "code",
   "execution_count": null,
   "metadata": {},
   "outputs": [],
   "source": [
    "mean_absolute_error(y_teste, previsoes) #erro absoluto médio"
   ]
  },
  {
   "cell_type": "code",
   "execution_count": null,
   "metadata": {},
   "outputs": [],
   "source": [
    "plt.plot(y_teste, color = 'red', label = 'Preço real') #plotar o gráfico com os valores reais\n",
    "plt.plot(previsoes, color = 'blue', label = 'Previsões') #plotar o gráfico com as previsões\n",
    "plt.legend() #mostrar a legenda"
   ]
  },
  {
   "cell_type": "code",
   "execution_count": null,
   "metadata": {},
   "outputs": [],
   "source": []
  }
 ],
 "metadata": {
  "kernelspec": {
   "display_name": "base",
   "language": "python",
   "name": "python3"
  },
  "language_info": {
   "codemirror_mode": {
    "name": "ipython",
    "version": 3
   },
   "file_extension": ".py",
   "mimetype": "text/x-python",
   "name": "python",
   "nbconvert_exporter": "python",
   "pygments_lexer": "ipython3",
   "version": "3.12.7"
  }
 },
 "nbformat": 4,
 "nbformat_minor": 2
}
