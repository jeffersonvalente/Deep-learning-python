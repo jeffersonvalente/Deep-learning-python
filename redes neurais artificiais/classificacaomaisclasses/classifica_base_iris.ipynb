{
 "cells": [
  {
   "cell_type": "code",
   "execution_count": null,
   "id": "7810fe9a-3273-4c2f-b156-5100112dddb8",
   "metadata": {},
   "outputs": [],
   "source": [
    "pip install -r requirements.txt"
   ]
  },
  {
   "cell_type": "code",
   "execution_count": null,
   "id": "59f29a13-69fc-411e-83ae-23ec01dde763",
   "metadata": {},
   "outputs": [],
   "source": [
    "import pandas as pd\n",
    "import numpy as np\n",
    "import tensorflow as tf\n",
    "import sklearn\n",
    "from tensorflow.keras.models import Sequential\n",
    "from tensorflow.keras.layers import Dense\n",
    "from tensorflow.keras import utils as np_utils\n",
    "from sklearn.preprocessing import LabelEncoder\n",
    "from sklearn.model_selection import train_test_split\n",
    "from sklearn.metrics import confusion_matrix\n",
    "from sklearn.metrics import accuracy_score\n",
    "from scikeras.wrappers import KerasClassifier"
   ]
  },
  {
   "cell_type": "code",
   "execution_count": null,
   "id": "5497c6a3-43de-4ffd-a68d-7b89b1addaaf",
   "metadata": {},
   "outputs": [],
   "source": [
    "#-----------------------------Carrega a base e faz o tratamento dela--------------------------\n",
    "base = pd.read_csv ('iris.csv')\n",
    "base"
   ]
  },
  {
   "cell_type": "code",
   "execution_count": null,
   "id": "46fb0d49-830e-4fef-bb42-b482933b610c",
   "metadata": {
    "scrolled": true
   },
   "outputs": [],
   "source": [
    "#pega os valores das 4 primeiras colunas (0:4)\n",
    "X = base.iloc[:, 0:4]\n",
    "X"
   ]
  },
  {
   "cell_type": "code",
   "execution_count": null,
   "id": "68a2e20a-ed42-44eb-a941-e48e3b06c772",
   "metadata": {},
   "outputs": [],
   "source": [
    "#pega o valor da ultima coluna\n",
    "y = base.iloc [:, 4]\n",
    "y"
   ]
  },
  {
   "cell_type": "code",
   "execution_count": null,
   "id": "235d97c6-f2b6-48a5-8078-1de9badb9e3b",
   "metadata": {},
   "outputs": [],
   "source": [
    "#transforma o valor string em um array\n",
    "label_encoder = LabelEncoder()\n",
    "y = label_encoder.fit_transform(y)\n",
    "y"
   ]
  },
  {
   "cell_type": "code",
   "execution_count": null,
   "id": "e6c1fe4d-20f6-447e-8fc2-2e577bf2e0ac",
   "metadata": {
    "scrolled": true
   },
   "outputs": [],
   "source": [
    "#transforma o array anterior em matriz\n",
    "y = np_utils.to_categorical(y)\n",
    "y"
   ]
  },
  {
   "cell_type": "code",
   "execution_count": null,
   "id": "888262ef-8f1a-4ed3-ab05-6b5c202f7615",
   "metadata": {},
   "outputs": [],
   "source": [
    "X_treinamento, X_teste, y_treinamento, y_teste = train_test_split(X, y, test_size=0.25) #25% da base para testes"
   ]
  },
  {
   "cell_type": "code",
   "execution_count": null,
   "id": "5021976f-174b-4b92-8de1-ca16108ad802",
   "metadata": {},
   "outputs": [],
   "source": [
    "#-----------------------------------criação da rede neural---------------------------------\n",
    "rede_neural = Sequential([\n",
    "    tf.keras.layers.InputLayer(shape = (4,)),\n",
    "    tf.keras.layers.Dense(units = 4, activation = 'relu'),\n",
    "    tf.keras.layers.Dense(units = 4, activation = 'relu'),\n",
    "    tf.keras.layers.Dense(units = 3, activation = 'softmax')\n",
    "])"
   ]
  },
  {
   "cell_type": "code",
   "execution_count": null,
   "id": "4258d01a-ec52-4e0e-bcd6-fdd5be4ce40c",
   "metadata": {},
   "outputs": [],
   "source": [
    "rede_neural.summary()"
   ]
  },
  {
   "cell_type": "code",
   "execution_count": null,
   "id": "9fd8e2cf-0b2b-4af4-be7c-3a9a8958c888",
   "metadata": {},
   "outputs": [],
   "source": [
    "rede_neural.compile(optimizer = 'adam', loss = 'categorical_crossentropy', metrics = ['categorical_accuracy'])"
   ]
  },
  {
   "cell_type": "code",
   "execution_count": null,
   "id": "8e0816db-0cad-4679-ab02-eec7b6d72f73",
   "metadata": {
    "scrolled": true
   },
   "outputs": [],
   "source": [
    "rede_neural.fit(X_treinamento, y_treinamento, batch_size = 10, epochs = 1000)"
   ]
  },
  {
   "cell_type": "code",
   "execution_count": null,
   "id": "ae30bbb8-daf1-450a-baff-46fd29e86886",
   "metadata": {},
   "outputs": [],
   "source": [
    "rede_neural.evaluate(X_teste, y_teste)"
   ]
  },
  {
   "cell_type": "code",
   "execution_count": null,
   "id": "dc48b7c3-f0a9-4561-b216-5eb407640b3d",
   "metadata": {},
   "outputs": [],
   "source": [
    "previsoes = rede_neural.predict(X_teste) > 0.5\n",
    "print(previsoes)\n"
   ]
  },
  {
   "cell_type": "code",
   "execution_count": null,
   "id": "2d57effd-c1c3-47f2-af52-47fbcde1868f",
   "metadata": {},
   "outputs": [],
   "source": [
    "y_teste2 = [np.argmax(t) for t in y_teste]\n",
    "print(y_teste2)"
   ]
  },
  {
   "cell_type": "code",
   "execution_count": null,
   "id": "0438db7f-820a-43d0-aa47-69a08aada836",
   "metadata": {},
   "outputs": [],
   "source": [
    "previsoes2 = [np.argmax(t) for t in previsoes]\n",
    "print(previsoes2)"
   ]
  },
  {
   "cell_type": "code",
   "execution_count": null,
   "id": "29c9217d-366d-46fe-80f3-e4786f5836be",
   "metadata": {},
   "outputs": [],
   "source": [
    "accuracy_score(y_teste2, previsoes2)"
   ]
  },
  {
   "cell_type": "code",
   "execution_count": null,
   "id": "f0624d4a-89a9-4012-9d52-96eb78e9d353",
   "metadata": {},
   "outputs": [],
   "source": [
    "confusion_matrix(y_teste2, previsoes2)"
   ]
  },
  {
   "cell_type": "code",
   "execution_count": null,
   "id": "37dc55e7-04bc-4443-b2e3-06f12e7ba4df",
   "metadata": {},
   "outputs": [],
   "source": []
  }
 ],
 "metadata": {
  "kernelspec": {
   "display_name": "Python [conda env:base] *",
   "language": "python",
   "name": "conda-base-py"
  },
  "language_info": {
   "codemirror_mode": {
    "name": "ipython",
    "version": 3
   },
   "file_extension": ".py",
   "mimetype": "text/x-python",
   "name": "python",
   "nbconvert_exporter": "python",
   "pygments_lexer": "ipython3",
   "version": "3.12.7"
  }
 },
 "nbformat": 4,
 "nbformat_minor": 5
}
