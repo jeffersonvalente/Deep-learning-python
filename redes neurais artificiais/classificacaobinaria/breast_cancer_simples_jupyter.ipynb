{
 "cells": [
  {
   "cell_type": "code",
   "execution_count": null,
   "id": "badbda01-a99a-426d-8c15-e0ff8ae3ce90",
   "metadata": {
    "scrolled": true
   },
   "outputs": [],
   "source": [
    "pip install -r requirements.txt"
   ]
  },
  {
   "cell_type": "code",
   "execution_count": null,
   "id": "76360612-ffd2-4cee-9d00-6486ef0ab6e1",
   "metadata": {},
   "outputs": [],
   "source": [
    "import pandas as pd\n",
    "import sklearn\n",
    "from sklearn.model_selection import train_test_split\n",
    "import tensorflow as tf\n",
    "from tensorflow.keras.models import Sequential\n",
    "from sklearn.metrics import confusion_matrix, accuracy_score"
   ]
  },
  {
   "cell_type": "code",
   "execution_count": null,
   "id": "0b6e7c97-c60c-466e-bd52-3547234458c0",
   "metadata": {},
   "outputs": [],
   "source": [
    "#--------------------------------------------- carregando a base de dados ---------------------------------------------#\n",
    "\n",
    "#previsores\n",
    "X = pd.read_csv('entradas_breast.csv')\n",
    "\n",
    "#classe\n",
    "y = pd.read_csv('saidas_breast.csv')\n",
    "\n",
    "#faz a divisão dos dados para treinamento (test_size=0.25%) = 25% para teste e 75% para treinamento\n",
    "X_treinamento, X_teste, y_treinamento, y_teste = train_test_split(X, y, test_size=0.25)"
   ]
  },
  {
   "cell_type": "code",
   "execution_count": null,
   "id": "3e4ccd74-d574-4e71-ab98-633d5552587e",
   "metadata": {
    "jupyter": {
     "source_hidden": true
    }
   },
   "outputs": [],
   "source": [
    "#--------------------------------------------- criando estrutura da rede neural ---------------------------------------------#\n",
    "\n",
    "rede_neural = Sequential(\n",
    "    [\n",
    "        tf.keras.layers.InputLayer(shape = (30,)), #camada de entrada com 30 neurônios\n",
    "\n",
    "        #camada oculta com 16 neurônios 30 unidades de entrada + 1 unidade de saída / 2 = 16(arrendondado)\n",
    "        tf.keras.layers.Dense(units = 16, activation = 'relu', kernel_initializer = 'random_uniform' ),\n",
    "        tf.keras.layers.Dense(units = 16, activation = 'relu', kernel_initializer = 'random_uniform' ),\n",
    "\n",
    "        tf.keras.layers.Dense(units = 1, activation = 'sigmoid'), #camada de saída com 1 neurônio\n",
    "    ]\n",
    ")\n",
    "\n",
    "rede_neural.summary()   "
   ]
  },
  {
   "cell_type": "code",
   "execution_count": null,
   "id": "237b1041-1534-4e22-98bc-47cee2c55492",
   "metadata": {
    "jupyter": {
     "source_hidden": true
    }
   },
   "outputs": [],
   "source": [
    "#--------------------------------------------- compilando a rede neural ---------------------------------------------#\n",
    "\n",
    "otimizador = tf.keras.optimizers.Adam(learning_rate = 0.001, clipvalue = 0.5) #otimizador Adam \n",
    "rede_neural.compile(optimizer = otimizador, loss = 'binary_crossentropy', metrics = ['binary_accuracy']) #adam = algoritmo de otimização \n",
    "                                                                                                     # binary_crossentropy = função de perda para classificação binária\n",
    "                                                                                                     # loss = função de perda\n"
   ]
  },
  {
   "cell_type": "code",
   "execution_count": null,
   "id": "e2fffec5-a11f-463c-ba97-46b83e411923",
   "metadata": {
    "jupyter": {
     "source_hidden": true
    },
    "scrolled": true
   },
   "outputs": [],
   "source": [
    "#--------------------------------------------- treinando a rede neural ---------------------------------------------#\n",
    "\n",
    "rede_neural.fit(X_treinamento, y_treinamento, batch_size = 10, epochs = 100) #batch_size = 10, 10 registros por vez"
   ]
  },
  {
   "cell_type": "code",
   "execution_count": null,
   "id": "8916d04a-e1f3-4c3e-ba1e-287aaa4785df",
   "metadata": {
    "scrolled": true
   },
   "outputs": [],
   "source": [
    "previsores = rede_neural.predict(X_teste)"
   ]
  },
  {
   "cell_type": "code",
   "execution_count": null,
   "id": "7487ba20-a851-4e5e-9006-935dca233297",
   "metadata": {},
   "outputs": [],
   "source": [
    "previsores_binarios = [1 if previsao >= 0.5 else 0 for previsao in previsores]\n",
    "\n",
    "# Calcule a acurácia\n",
    "acuracia = accuracy_score(y_teste, previsores_binarios)\n",
    "print(f\"Acurácia: {acuracia}\")"
   ]
  },
  {
   "cell_type": "code",
   "execution_count": null,
   "id": "ee9a00fb-bbe6-42c1-b4cb-38987650b79b",
   "metadata": {
    "scrolled": true
   },
   "outputs": [],
   "source": [
    "# Converta previsores contínuos para binários (0 e 1)\n",
    "previsores_binarios = [1 if previsao >= 0.5 else 0 for previsao in previsores]\n",
    "\n",
    "# Calcule a matriz de confusão\n",
    "matriz_confusao = confusion_matrix(y_teste, previsores_binarios)\n",
    "print(\"Matriz de Confusão:\")\n",
    "print(matriz_confusao)"
   ]
  },
  {
   "cell_type": "code",
   "execution_count": null,
   "id": "31a8d7c0-5e00-4208-84b2-db70429ac3b2",
   "metadata": {},
   "outputs": [],
   "source": [
    "resultado = rede_neural.evaluate(X_teste, y_teste, verbose=0)  # verbose=0 evita saídas desnecessárias\n",
    "print(f\"Loss: {resultado[0]}\")  # Exibe o valor da perda (loss)\n",
    "print(f\"Acurácia: {resultado[1]}\")  # Exibe o valor da acurácia"
   ]
  },
  {
   "cell_type": "code",
   "execution_count": null,
   "id": "f4c1d902-13b1-4fdc-9b41-0a648d8a67e9",
   "metadata": {},
   "outputs": [],
   "source": []
  }
 ],
 "metadata": {
  "kernelspec": {
   "display_name": "Python [conda env:base] *",
   "language": "python",
   "name": "conda-base-py"
  },
  "language_info": {
   "codemirror_mode": {
    "name": "ipython",
    "version": 3
   },
   "file_extension": ".py",
   "mimetype": "text/x-python",
   "name": "python",
   "nbconvert_exporter": "python",
   "pygments_lexer": "ipython3",
   "version": "3.12.7"
  }
 },
 "nbformat": 4,
 "nbformat_minor": 5
}
