{
 "cells": [
  {
   "cell_type": "code",
   "execution_count": null,
   "id": "ca71b474-d00e-4bd5-88f9-0484a3452759",
   "metadata": {},
   "outputs": [],
   "source": [
    "pip install -r requirements.txt"
   ]
  },
  {
   "cell_type": "code",
   "execution_count": null,
   "id": "ebf7f5c4-9df9-4c7d-bf16-40d62c1f10eb",
   "metadata": {},
   "outputs": [],
   "source": [
    "import pandas as pd\n",
    "import sklearn\n",
    "import tensorflow as tf\n",
    "import scikeras\n",
    "from tensorflow.keras import backend as k\n",
    "from scikeras.wrappers import KerasClassifier\n",
    "from sklearn.model_selection import GridSearchCV\n",
    "from tensorflow.keras.models import Sequential\n"
   ]
  },
  {
   "cell_type": "code",
   "execution_count": null,
   "id": "faca6cd4-df36-4f1c-a990-9c7bca37710c",
   "metadata": {},
   "outputs": [],
   "source": [
    "#--------------------------------------------- carregando a base de dados ---------------------------------------------#\n",
    "\n",
    "#previsores\n",
    "X = pd.read_csv('entradas_breast.csv')\n",
    "\n",
    "#classe\n",
    "y = pd.read_csv('saidas_breast.csv')"
   ]
  },
  {
   "cell_type": "code",
   "execution_count": null,
   "id": "39959d96-41b1-4a18-8da3-cdcb4f963c89",
   "metadata": {},
   "outputs": [],
   "source": [
    "#--------------------------------------------- criando estrutura da rede neural ---------------------------------------------#\n",
    "\n",
    "def criar_rede(optimizer, loss, kernel_initializer, activation, neurons):\n",
    "    k.clear_session()\n",
    "    rede_neural = Sequential(\n",
    "    [\n",
    "        tf.keras.layers.InputLayer(shape = (30,)), #camada de entrada com 30 neurônios\n",
    "    \n",
    "        #camada oculta com 16 neurônios 30 unidades de entrada + 1 unidade de saída / 2 = 16(arrendondado)\n",
    "        tf.keras.layers.Dense(units = neurons, activation = activation, kernel_initializer = kernel_initializer ),\n",
    "        tf.keras.layers.Dropout(rate = 0.2), #zera 20% dos neuronios\n",
    "        tf.keras.layers.Dense(units = neurons, activation = activation, kernel_initializer = kernel_initializer ),\n",
    "        tf.keras.layers.Dropout(rate = 0.2), #zera 20% dos neuronios\n",
    "        tf.keras.layers.Dense(units = 1, activation = 'sigmoid'), #camada de saída com 1 neurônio\n",
    "    ]\n",
    "        )\n",
    "    rede_neural.compile(optimizer = optimizer, loss = loss, metrics = ['binary_accuracy']) # adam = algoritmo de otimização\n",
    "                                                                                                             # binary_crossentropy = função de perda para classificação binária\n",
    "                                                                                                             # loss = função de perda\n",
    "    return rede_neural"
   ]
  },
  {
   "cell_type": "code",
   "execution_count": null,
   "id": "e2c3c622-04a7-4d15-8250-b3b106368c64",
   "metadata": {},
   "outputs": [],
   "source": [
    "rede_neural = KerasClassifier(model = criar_rede)"
   ]
  },
  {
   "cell_type": "code",
   "execution_count": null,
   "id": "821fb456-814d-43b9-8175-2e5e790e0f05",
   "metadata": {},
   "outputs": [],
   "source": [
    "#---------------------muito demorado------------------------#\n",
    "parametros = {\n",
    "    'batch_size': [10,30],\n",
    "    'epochs': [50,100],\n",
    "    'model__optimizer': ['adam', 'sgd'],\n",
    "    'model__loss': ['binary_crossentropy', 'hinge'],\n",
    "    'model__kernel_initializer': ['random_uniform', 'normal'],\n",
    "    'model__activation': ['relu', 'tanh'],\n",
    "    'model__neurons': [16,8]\n",
    "}"
   ]
  },
  {
   "cell_type": "code",
   "execution_count": null,
   "id": "5fa275de-e890-4976-9a5b-e0179b634111",
   "metadata": {},
   "outputs": [],
   "source": [
    "#------------menos variação para executar mais rapido-------------------#\n",
    "parametros = {\n",
    "    'batch_size': [10,30],\n",
    "    'epochs': [50],\n",
    "    'model__optimizer': ['adam'],\n",
    "    'model__loss': ['binary_crossentropy'],\n",
    "    'model__kernel_initializer': ['random_uniform', 'normal'],\n",
    "    'model__activation': ['relu'],\n",
    "    'model__neurons': [16]\n",
    "}"
   ]
  },
  {
   "cell_type": "code",
   "execution_count": null,
   "id": "c1e9b76e-01da-40a0-85f9-7224eec02917",
   "metadata": {},
   "outputs": [],
   "source": [
    "print(parametros)"
   ]
  },
  {
   "cell_type": "code",
   "execution_count": null,
   "id": "e770169a-aee2-4c09-a4d8-62e9ff09aa0d",
   "metadata": {},
   "outputs": [],
   "source": [
    "grid_search = GridSearchCV(estimator = rede_neural, param_grid = parametros,\n",
    "                           scoring = 'accuracy', cv =5)"
   ]
  },
  {
   "cell_type": "code",
   "execution_count": null,
   "id": "70040bc4-5e87-4677-9417-a2a095cd021c",
   "metadata": {
    "scrolled": true
   },
   "outputs": [],
   "source": [
    "grid_search = grid_search.fit(X,y)"
   ]
  },
  {
   "cell_type": "code",
   "execution_count": null,
   "id": "0c148926-10e6-4d68-9a47-823be5ff77e2",
   "metadata": {},
   "outputs": [],
   "source": [
    "print(grid_search)"
   ]
  },
  {
   "cell_type": "code",
   "execution_count": null,
   "id": "11f8b2af-8321-4ebe-be61-3846bd312826",
   "metadata": {},
   "outputs": [],
   "source": [
    "melhores_parametros = grid_search.best_params_\n",
    "print(melhores_parametros)"
   ]
  },
  {
   "cell_type": "code",
   "execution_count": null,
   "id": "8c05155f-34b3-4710-a499-16b2e59ef69a",
   "metadata": {},
   "outputs": [],
   "source": [
    "melhor_precisao = grid_search.best_score_\n",
    "print(melhor_precisao)"
   ]
  },
  {
   "cell_type": "code",
   "execution_count": null,
   "id": "fd2b8613-23d1-47be-9738-c9dbede87560",
   "metadata": {},
   "outputs": [],
   "source": []
  }
 ],
 "metadata": {
  "kernelspec": {
   "display_name": "Python [conda env:base] *",
   "language": "python",
   "name": "conda-base-py"
  },
  "language_info": {
   "codemirror_mode": {
    "name": "ipython",
    "version": 3
   },
   "file_extension": ".py",
   "mimetype": "text/x-python",
   "name": "python",
   "nbconvert_exporter": "python",
   "pygments_lexer": "ipython3",
   "version": "3.12.7"
  }
 },
 "nbformat": 4,
 "nbformat_minor": 5
}
