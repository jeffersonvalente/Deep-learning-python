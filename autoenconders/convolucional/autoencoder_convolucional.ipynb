{
 "cells": [
  {
   "cell_type": "code",
   "execution_count": null,
   "metadata": {},
   "outputs": [],
   "source": [
    "pip install -r requirements.txt"
   ]
  },
  {
   "cell_type": "code",
   "execution_count": 4,
   "metadata": {},
   "outputs": [],
   "source": [
    "import tensorflow as tf\n",
    "import numpy as np\n",
    "import matplotlib\n",
    "import matplotlib.pyplot as plt\n",
    "\n",
    "from tensorflow.keras.datasets import mnist\n",
    "from tensorflow.keras.models import Model, Sequential\n",
    "from tensorflow.keras.layers import InputLayer, Dense, Conv2D, MaxPooling2D, UpSampling2D, Flatten, Reshape"
   ]
  },
  {
   "cell_type": "code",
   "execution_count": 5,
   "metadata": {},
   "outputs": [],
   "source": [
    "(X_treinamento, _), (X_teste, _) = mnist.load_data()"
   ]
  },
  {
   "cell_type": "code",
   "execution_count": 6,
   "metadata": {},
   "outputs": [],
   "source": [
    "X_treinamento = X_treinamento.reshape((len(X_treinamento), 28, 28, 1))\n",
    "X_teste = X_teste.reshape((len(X_teste), 28, 28, 1))"
   ]
  },
  {
   "cell_type": "code",
   "execution_count": 7,
   "metadata": {},
   "outputs": [],
   "source": [
    "X_treinamento = X_treinamento.astype('float32') / 255\n",
    "X_teste = X_teste.astype('float32') / 255"
   ]
  },
  {
   "cell_type": "code",
   "execution_count": null,
   "metadata": {},
   "outputs": [],
   "source": [
    "autoencoder =Sequential()\n",
    "\n",
    "# Codificador\n",
    "autoencoder.add(InputLayer(shape = (28,28,1)))\n",
    "autoencoder.add(Conv2D(filters = 16, kernel_size= (3,3), activation='relu'))\n",
    "autoencoder.add(MaxPooling2D(pool_size = (2,2)))\n",
    "\n",
    "autoencoder.add(Conv2D(filters = 8, kernel_size= (3,3), activation='relu', padding='same'))\n",
    "autoencoder.add(MaxPooling2D(pool_size = (2,2), padding='same'))\n",
    "\n",
    "autoencoder.add(Conv2D(filters = 8, kernel_size= (3,3), activation='relu', padding='same', strides=(2,2)))\n",
    "autoencoder.add(Flatten())\n",
    "\n",
    "#Decodificador\n",
    "autoencoder.add(Reshape((4,4,8)))\n",
    "autoencoder.add(Conv2D(filters = 8, kernel_size= (3,3), activation='relu', padding='same'))\n",
    "autoencoder.add(UpSampling2D(size=(2,2)))\n",
    "autoencoder.add(Conv2D(filters = 8, kernel_size= (3,3), activation='relu', padding='same'))\n",
    "autoencoder.add(UpSampling2D(size=(2,2)))\n",
    "autoencoder.add(Conv2D(filters = 16, kernel_size= (3,3), activation='relu'))\n",
    "autoencoder.add(UpSampling2D(size=(2,2)))\n",
    "autoencoder.add(Conv2D(filters = 1, kernel_size= (3,3), activation='sigmoid', padding='same'))\n",
    "autoencoder.summary()"
   ]
  },
  {
   "cell_type": "code",
   "execution_count": null,
   "metadata": {},
   "outputs": [],
   "source": [
    "autoencoder.compile(optimizer='adam', loss= 'binary_crossentropy', metrics = [ 'accuracy'])\n",
    "autoencoder.fit(X_treinamento, X_treinamento, epochs=10, batch_size=256,\n",
    "                 validation_data=(X_teste, X_teste))"
   ]
  },
  {
   "cell_type": "code",
   "execution_count": null,
   "metadata": {},
   "outputs": [],
   "source": [
    "encoder = Model(inputs=autoencoder.get_layer('conv2d_77').input,\n",
    "                outputs = autoencoder.get_layer('flatten_17').output)\n",
    "encoder.summary()"
   ]
  },
  {
   "cell_type": "code",
   "execution_count": null,
   "metadata": {},
   "outputs": [],
   "source": [
    "imagens_codificadas = encoder.predict(X_teste)"
   ]
  },
  {
   "cell_type": "code",
   "execution_count": null,
   "metadata": {},
   "outputs": [],
   "source": [
    "imagens_decodificadas = autoencoder.predict(X_teste)"
   ]
  },
  {
   "cell_type": "code",
   "execution_count": null,
   "metadata": {},
   "outputs": [],
   "source": [
    "numero_imagens = 10\n",
    "imagem_teste = np.random.randint(X_teste.shape[0], size = numero_imagens)\n",
    "plt.figure(figsize=(18,18))\n",
    "for i, indice_imagem in enumerate(imagem_teste):\n",
    "    #print(i)\n",
    "    #print(indice_imagem)\n",
    "\n",
    "    #imagem original\n",
    "    eixo = plt.subplot(10,10,i + 1)\n",
    "    plt.imshow(X_teste[indice_imagem].reshape(28,28))\n",
    "    plt.xticks(())\n",
    "    plt.yticks(())\n",
    "\n",
    "    #imagem codificada\n",
    "    eixo = plt.subplot(10,10, i+ 1 + numero_imagens)\n",
    "    plt.imshow(imagens_codificadas[indice_imagem].reshape(16, 8))\n",
    "    plt.xticks(())\n",
    "    plt.yticks(())\n",
    "#\n",
    "    ##imagem reconstruidas\n",
    "    eixo = plt.subplot(10,10,i + 1 + numero_imagens * 2)\n",
    "    plt.imshow(imagens_decodificadas[indice_imagem].reshape(28,28))\n",
    "    plt.xticks(())\n",
    "    plt.yticks(())"
   ]
  },
  {
   "cell_type": "code",
   "execution_count": null,
   "metadata": {},
   "outputs": [],
   "source": []
  }
 ],
 "metadata": {
  "kernelspec": {
   "display_name": "base",
   "language": "python",
   "name": "python3"
  },
  "language_info": {
   "codemirror_mode": {
    "name": "ipython",
    "version": 3
   },
   "file_extension": ".py",
   "mimetype": "text/x-python",
   "name": "python",
   "nbconvert_exporter": "python",
   "pygments_lexer": "ipython3",
   "version": "3.12.7"
  }
 },
 "nbformat": 4,
 "nbformat_minor": 2
}
