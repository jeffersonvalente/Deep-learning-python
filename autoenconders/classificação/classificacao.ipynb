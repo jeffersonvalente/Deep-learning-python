{
 "cells": [
  {
   "cell_type": "code",
   "execution_count": null,
   "metadata": {},
   "outputs": [],
   "source": [
    "pip install -r requirements.txt"
   ]
  },
  {
   "cell_type": "code",
   "execution_count": 2,
   "metadata": {},
   "outputs": [],
   "source": [
    "import tensorflow as tf\n",
    "import keras\n",
    "import numpy as np\n",
    "\n",
    "from tensorflow.keras.datasets import mnist\n",
    "from tensorflow.keras.models import Model, Sequential\n",
    "from tensorflow.keras.layers import InputLayer, Input, Dense\n",
    "from tensorflow.keras import utils as np_utils"
   ]
  },
  {
   "cell_type": "code",
   "execution_count": 3,
   "metadata": {},
   "outputs": [],
   "source": [
    "(X_treinamento, y_treinamento), (X_teste, y_teste) = mnist.load_data()"
   ]
  },
  {
   "cell_type": "code",
   "execution_count": 4,
   "metadata": {},
   "outputs": [],
   "source": [
    "X_treinamento = X_treinamento.astype('float32') / 255\n",
    "X_teste = X_teste.astype('float32') / 255"
   ]
  },
  {
   "cell_type": "code",
   "execution_count": 5,
   "metadata": {},
   "outputs": [],
   "source": [
    "y_treinamento = np_utils.to_categorical(y_treinamento)\n",
    "y_teste = np_utils.to_categorical(y_teste)"
   ]
  },
  {
   "cell_type": "code",
   "execution_count": null,
   "metadata": {},
   "outputs": [],
   "source": [
    "X_treinamento = X_treinamento.reshape((len(X_treinamento), np.prod(X_treinamento.shape [1:])))\n",
    "X_teste = X_teste.reshape((len(X_teste), np.prod(X_teste.shape [1:])))"
   ]
  },
  {
   "cell_type": "code",
   "execution_count": null,
   "metadata": {},
   "outputs": [],
   "source": [
    "autoenconder =  Sequential()\n",
    "autoenconder.add(InputLayer(shape=(784,)))\n",
    "autoenconder.add(Dense(units= 32, activation= 'relu'))\n",
    "autoenconder.add(Dense(units= 784, activation= 'sigmoid'))\n",
    "autoenconder.summary()"
   ]
  },
  {
   "cell_type": "code",
   "execution_count": 9,
   "metadata": {},
   "outputs": [],
   "source": [
    "autoenconder.compile(optimizer='adam', loss= 'binary_crossentropy', metrics = [ 'accuracy'])"
   ]
  },
  {
   "cell_type": "code",
   "execution_count": null,
   "metadata": {},
   "outputs": [],
   "source": [
    "autoenconder.fit(X_treinamento, X_treinamento, epochs= 50,\n",
    "                 batch_size =256, validation_data = (X_teste, X_teste))"
   ]
  },
  {
   "cell_type": "code",
   "execution_count": 11,
   "metadata": {},
   "outputs": [],
   "source": [
    "dimensao_original = Input(shape= (784,))\n",
    "camada_encoder = autoenconder.layers[0]\n",
    "encoder = Model(dimensao_original, camada_encoder(dimensao_original))\n"
   ]
  },
  {
   "cell_type": "code",
   "execution_count": null,
   "metadata": {},
   "outputs": [],
   "source": [
    "treinamento_codificado = encoder.predict(X_treinamento)"
   ]
  },
  {
   "cell_type": "code",
   "execution_count": null,
   "metadata": {},
   "outputs": [],
   "source": [
    "teste_codificado =  encoder.predict(X_teste)"
   ]
  },
  {
   "cell_type": "code",
   "execution_count": null,
   "metadata": {},
   "outputs": [],
   "source": [
    "#sem redução de dimensionalidade\n",
    "c1 = Sequential()\n",
    "c1.add(InputLayer(shape= (784,)))\n",
    "c1.add(Dense(units= 397, activation='relu'))\n",
    "c1.add(Dense(units= 397, activation='relu'))\n",
    "c1.add(Dense(units= 10, activation='softmax'))\n",
    "\n",
    "c1.compile(optimizer='adam', loss='categorical_crossentropy', metrics = ['accuracy'])\n",
    "c1.fit(X_treinamento, y_treinamento, batch_size=256, epochs=100,\n",
    "       validation_data=(X_teste, y_teste))\n"
   ]
  },
  {
   "cell_type": "code",
   "execution_count": null,
   "metadata": {},
   "outputs": [],
   "source": [
    "#sem redução de dimensionalidade\n",
    "c1 = Sequential()\n",
    "c1.add(InputLayer(shape= (32,)))\n",
    "c1.add(Dense(units= 21, activation='relu'))\n",
    "c1.add(Dense(units= 21, activation='relu'))\n",
    "c1.add(Dense(units= 10, activation='softmax'))\n",
    "\n",
    "c1.compile(optimizer='adam', loss='categorical_crossentropy', metrics = ['accuracy'])\n",
    "c1.fit(treinamento_codificado, y_treinamento, batch_size=256, epochs=100,\n",
    "       validation_data=(teste_codificado, y_teste))\n"
   ]
  },
  {
   "cell_type": "code",
   "execution_count": null,
   "metadata": {},
   "outputs": [],
   "source": []
  }
 ],
 "metadata": {
  "kernelspec": {
   "display_name": "base",
   "language": "python",
   "name": "python3"
  },
  "language_info": {
   "codemirror_mode": {
    "name": "ipython",
    "version": 3
   },
   "file_extension": ".py",
   "mimetype": "text/x-python",
   "name": "python",
   "nbconvert_exporter": "python",
   "pygments_lexer": "ipython3",
   "version": "3.12.7"
  }
 },
 "nbformat": 4,
 "nbformat_minor": 2
}
